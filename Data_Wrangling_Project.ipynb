{
 "cells": [
  {
   "cell_type": "markdown",
   "metadata": {
    "id": "GNIwe5N7s0e_"
   },
   "source": [
    "# Movie Dataset Data Wrangling"
   ]
  },
  {
   "cell_type": "code",
   "execution_count": 1,
   "metadata": {},
   "outputs": [
    {
     "name": "stdout",
     "output_type": "stream",
     "text": [
      "Defaulting to user installation because normal site-packages is not writeable\n",
      "Collecting kaggle==1.6.12\n",
      "  Downloading kaggle-1.6.12.tar.gz (79 kB)\n",
      "\u001b[2K     \u001b[90m━━━━━━━━━━━━━━━━━━━━━━━━━━━━━━━━━━━━━━━\u001b[0m \u001b[32m79.7/79.7 kB\u001b[0m \u001b[31m899.6 kB/s\u001b[0m eta \u001b[36m0:00:00\u001b[0m \u001b[36m0:00:01\u001b[0m\n",
      "\u001b[?25h  Preparing metadata (setup.py) ... \u001b[?25ldone\n",
      "\u001b[?25hRequirement already satisfied: six>=1.10 in /opt/conda/lib/python3.10/site-packages (from kaggle==1.6.12) (1.16.0)\n",
      "Collecting certifi>=2023.7.22\n",
      "  Downloading certifi-2025.8.3-py3-none-any.whl (161 kB)\n",
      "\u001b[2K     \u001b[90m━━━━━━━━━━━━━━━━━━━━━━━━━━━━━━━━━━━━━━━\u001b[0m \u001b[32m161.2/161.2 kB\u001b[0m \u001b[31m7.5 MB/s\u001b[0m eta \u001b[36m0:00:00\u001b[0m\n",
      "\u001b[?25hRequirement already satisfied: python-dateutil in /opt/conda/lib/python3.10/site-packages (from kaggle==1.6.12) (2.9.0.post0)\n",
      "Requirement already satisfied: requests in /opt/conda/lib/python3.10/site-packages (from kaggle==1.6.12) (2.29.0)\n",
      "Requirement already satisfied: tqdm in /opt/conda/lib/python3.10/site-packages (from kaggle==1.6.12) (4.65.0)\n",
      "Collecting python-slugify\n",
      "  Downloading python_slugify-8.0.4-py2.py3-none-any.whl (10 kB)\n",
      "Requirement already satisfied: urllib3 in /opt/conda/lib/python3.10/site-packages (from kaggle==1.6.12) (1.26.15)\n",
      "Requirement already satisfied: bleach in /opt/conda/lib/python3.10/site-packages (from kaggle==1.6.12) (6.1.0)\n",
      "Requirement already satisfied: webencodings in /opt/conda/lib/python3.10/site-packages (from bleach->kaggle==1.6.12) (0.5.1)\n",
      "Collecting text-unidecode>=1.3\n",
      "  Downloading text_unidecode-1.3-py2.py3-none-any.whl (78 kB)\n",
      "\u001b[2K     \u001b[90m━━━━━━━━━━━━━━━━━━━━━━━━━━━━━━━━━━━━━━━━\u001b[0m \u001b[32m78.2/78.2 kB\u001b[0m \u001b[31m14.2 MB/s\u001b[0m eta \u001b[36m0:00:00\u001b[0m\n",
      "\u001b[?25hRequirement already satisfied: charset-normalizer<4,>=2 in /opt/conda/lib/python3.10/site-packages (from requests->kaggle==1.6.12) (2.0.4)\n",
      "Requirement already satisfied: idna<4,>=2.5 in /opt/conda/lib/python3.10/site-packages (from requests->kaggle==1.6.12) (3.4)\n",
      "Building wheels for collected packages: kaggle\n",
      "  Building wheel for kaggle (setup.py) ... \u001b[?25ldone\n",
      "\u001b[?25h  Created wheel for kaggle: filename=kaggle-1.6.12-py3-none-any.whl size=102969 sha256=e47c7daacf011a66c04016ae04a70ce76464628ef7c8cfbe835a7ad2dbd16a2e\n",
      "  Stored in directory: /home/student/.cache/pip/wheels/1e/0b/7c/50f8e89c3d2f82838dbd7afeddffbb9357003009ada98216c7\n",
      "Successfully built kaggle\n",
      "Installing collected packages: text-unidecode, python-slugify, certifi, kaggle\n",
      "\u001b[33m  WARNING: The script slugify is installed in '/home/student/.local/bin' which is not on PATH.\n",
      "  Consider adding this directory to PATH or, if you prefer to suppress this warning, use --no-warn-script-location.\u001b[0m\u001b[33m\n",
      "\u001b[0m\u001b[33m  WARNING: The script kaggle is installed in '/home/student/.local/bin' which is not on PATH.\n",
      "  Consider adding this directory to PATH or, if you prefer to suppress this warning, use --no-warn-script-location.\u001b[0m\u001b[33m\n",
      "\u001b[0mSuccessfully installed certifi-2025.8.3 kaggle-1.6.12 python-slugify-8.0.4 text-unidecode-1.3\n"
     ]
    }
   ],
   "source": [
    "!python -m pip install kaggle==1.6.12"
   ]
  },
  {
   "cell_type": "code",
   "execution_count": 2,
   "metadata": {
    "scrolled": true
   },
   "outputs": [
    {
     "name": "stdout",
     "output_type": "stream",
     "text": [
      "Collecting ucimlrepo\n",
      "  Downloading ucimlrepo-0.0.7-py3-none-any.whl (8.0 kB)\n",
      "Collecting numpy==1.24.3\n",
      "  Downloading numpy-1.24.3-cp310-cp310-manylinux_2_17_x86_64.manylinux2014_x86_64.whl (17.3 MB)\n",
      "\u001b[2K     \u001b[90m━━━━━━━━━━━━━━━━━━━━━━━━━━━━━━━━━━━━━━━━\u001b[0m \u001b[32m17.3/17.3 MB\u001b[0m \u001b[31m57.2 MB/s\u001b[0m eta \u001b[36m0:00:00\u001b[0m00:01\u001b[0m00:01\u001b[0m\n",
      "\u001b[?25hCollecting pandas>=1.0.0\n",
      "  Downloading pandas-2.3.1-cp310-cp310-manylinux_2_17_x86_64.manylinux2014_x86_64.whl (12.3 MB)\n",
      "\u001b[2K     \u001b[90m━━━━━━━━━━━━━━━━━━━━━━━━━━━━━━━━━━━━━━━━\u001b[0m \u001b[32m12.3/12.3 MB\u001b[0m \u001b[31m55.1 MB/s\u001b[0m eta \u001b[36m0:00:00\u001b[0m00:01\u001b[0m00:01\u001b[0m\n",
      "\u001b[?25hCollecting certifi>=2020.12.5\n",
      "  Using cached certifi-2025.8.3-py3-none-any.whl (161 kB)\n",
      "Collecting pytz>=2020.1\n",
      "  Downloading pytz-2025.2-py2.py3-none-any.whl (509 kB)\n",
      "\u001b[2K     \u001b[90m━━━━━━━━━━━━━━━━━━━━━━━━━━━━━━━━━━━━━━\u001b[0m \u001b[32m509.2/509.2 kB\u001b[0m \u001b[31m38.3 MB/s\u001b[0m eta \u001b[36m0:00:00\u001b[0m\n",
      "\u001b[?25hCollecting python-dateutil>=2.8.2\n",
      "  Downloading python_dateutil-2.9.0.post0-py2.py3-none-any.whl (229 kB)\n",
      "\u001b[2K     \u001b[90m━━━━━━━━━━━━━━━━━━━━━━━━━━━━━━━━━━━━━━\u001b[0m \u001b[32m229.9/229.9 kB\u001b[0m \u001b[31m28.4 MB/s\u001b[0m eta \u001b[36m0:00:00\u001b[0m\n",
      "\u001b[?25hCollecting tzdata>=2022.7\n",
      "  Downloading tzdata-2025.2-py2.py3-none-any.whl (347 kB)\n",
      "\u001b[2K     \u001b[90m━━━━━━━━━━━━━━━━━━━━━━━━━━━━━━━━━━━━━━\u001b[0m \u001b[32m347.8/347.8 kB\u001b[0m \u001b[31m30.5 MB/s\u001b[0m eta \u001b[36m0:00:00\u001b[0m\n",
      "\u001b[?25hCollecting six>=1.5\n",
      "  Downloading six-1.17.0-py2.py3-none-any.whl (11 kB)\n",
      "Installing collected packages: pytz, tzdata, six, numpy, certifi, python-dateutil, pandas, ucimlrepo\n",
      "Successfully installed certifi-2025.8.3 numpy-1.24.3 pandas-2.3.1 python-dateutil-2.9.0.post0 pytz-2025.2 six-1.17.0 tzdata-2025.2 ucimlrepo-0.0.7\n",
      "\u001b[33mWARNING: Target directory /workspace/__pycache__ already exists. Specify --upgrade to force replacement.\u001b[0m\u001b[33m\n",
      "\u001b[0m\u001b[33mWARNING: Target directory /workspace/six-1.17.0.dist-info already exists. Specify --upgrade to force replacement.\u001b[0m\u001b[33m\n",
      "\u001b[0m\u001b[33mWARNING: Target directory /workspace/python_dateutil-2.9.0.post0.dist-info already exists. Specify --upgrade to force replacement.\u001b[0m\u001b[33m\n",
      "\u001b[0m\u001b[33mWARNING: Target directory /workspace/numpy already exists. Specify --upgrade to force replacement.\u001b[0m\u001b[33m\n",
      "\u001b[0m\u001b[33mWARNING: Target directory /workspace/pandas already exists. Specify --upgrade to force replacement.\u001b[0m\u001b[33m\n",
      "\u001b[0m\u001b[33mWARNING: Target directory /workspace/numpy-1.24.3.dist-info already exists. Specify --upgrade to force replacement.\u001b[0m\u001b[33m\n",
      "\u001b[0m\u001b[33mWARNING: Target directory /workspace/tzdata already exists. Specify --upgrade to force replacement.\u001b[0m\u001b[33m\n",
      "\u001b[0m\u001b[33mWARNING: Target directory /workspace/ucimlrepo already exists. Specify --upgrade to force replacement.\u001b[0m\u001b[33m\n",
      "\u001b[0m\u001b[33mWARNING: Target directory /workspace/pandas-2.3.1.dist-info already exists. Specify --upgrade to force replacement.\u001b[0m\u001b[33m\n",
      "\u001b[0m\u001b[33mWARNING: Target directory /workspace/certifi-2025.8.3.dist-info already exists. Specify --upgrade to force replacement.\u001b[0m\u001b[33m\n",
      "\u001b[0m\u001b[33mWARNING: Target directory /workspace/pytz-2025.2.dist-info already exists. Specify --upgrade to force replacement.\u001b[0m\u001b[33m\n",
      "\u001b[0m\u001b[33mWARNING: Target directory /workspace/ucimlrepo-0.0.7.dist-info already exists. Specify --upgrade to force replacement.\u001b[0m\u001b[33m\n",
      "\u001b[0m\u001b[33mWARNING: Target directory /workspace/numpy.libs already exists. Specify --upgrade to force replacement.\u001b[0m\u001b[33m\n",
      "\u001b[0m\u001b[33mWARNING: Target directory /workspace/pytz already exists. Specify --upgrade to force replacement.\u001b[0m\u001b[33m\n",
      "\u001b[0m\u001b[33mWARNING: Target directory /workspace/dateutil already exists. Specify --upgrade to force replacement.\u001b[0m\u001b[33m\n",
      "\u001b[0m\u001b[33mWARNING: Target directory /workspace/tzdata-2025.2.dist-info already exists. Specify --upgrade to force replacement.\u001b[0m\u001b[33m\n",
      "\u001b[0m\u001b[33mWARNING: Target directory /workspace/six.py already exists. Specify --upgrade to force replacement.\u001b[0m\u001b[33m\n",
      "\u001b[0m\u001b[33mWARNING: Target directory /workspace/certifi already exists. Specify --upgrade to force replacement.\u001b[0m\u001b[33m\n",
      "\u001b[0m\u001b[33mWARNING: Target directory /workspace/bin already exists. Specify --upgrade to force replacement.\u001b[0m\u001b[33m\n",
      "\u001b[0m"
     ]
    }
   ],
   "source": [
    "!pip install --target=/workspace ucimlrepo numpy==1.24.3"
   ]
  },
  {
   "cell_type": "markdown",
   "metadata": {
    "id": "lDYDkH-Zs7Nn"
   },
   "source": [
    "## 1. Gather data\n",
    "\n",
    "In this section, you will extract data using two different data gathering methods and combine the data. Use at least two different types of data-gathering methods."
   ]
  },
  {
   "cell_type": "markdown",
   "metadata": {
    "id": "LbN7z7rcuqpO"
   },
   "source": [
    "### **1.1.** Problem Statement\n",
    "This project aims to analyze and understand the main causes that influence movie success and popularity by wrangling and combining two rich movie datasets. Using the Kaggle movies dataset and the official IMDb title basics data, I will explore relationships between movie metadata such as genres, release year, runtime, and user ratings. By cleaning and integrating these datasets, I aim to answer questions about how certain movie attributes impact their ratings and commercial success.\n",
    "\n",
    "**Research Question**\n",
    "- How do movie genres influence average viewer ratings and revenue?\n"
   ]
  },
  {
   "cell_type": "markdown",
   "metadata": {
    "id": "8AQfBAdUypMm"
   },
   "source": [
    "### **1.2.** Gather at least two datasets using two different data gathering methods"
   ]
  },
  {
   "cell_type": "markdown",
   "metadata": {
    "id": "7e6gS0wL1KTu"
   },
   "source": [
    "#### **Dataset 1**\n",
    "\n",
    "Type: *CSV file (movies_metadata.csv) from Kaggle dataset The Movies Dataset*\n",
    "\n",
    "Method: *The dataset was gathered programmatically using the Kaggle API. We used the Kaggle command line tool to download and unzip the dataset into our working environment.* \n",
    " \n",
    "Dataset variables: (selected)\n",
    "*   *`imdb_id`: Unique IMDb identifier for each movie* \n",
    "*   *`title`: Movie title*\n",
    "*   *`genres`: List of genres associated with the movie*\n",
    "*   *`release_date`: Movie release date*\n",
    "*   *`budget`: Movie production budget*\n",
    "*   *`revenue`: Movie revenue*\n",
    "*   *`vote_average`: Average user rating*\n",
    "*   *`vote_count`: Number of user ratings*"
   ]
  },
  {
   "cell_type": "code",
   "execution_count": 3,
   "metadata": {
    "id": "Su8E0uLuYkHU"
   },
   "outputs": [
    {
     "name": "stdout",
     "output_type": "stream",
     "text": [
      "Warning: Looks like you're using an outdated API Version, please consider updating (server 1.7.4.2 / client 1.6.12)\n",
      "Dataset URL: https://www.kaggle.com/datasets/rounakbanik/the-movies-dataset\n",
      "License(s): CC0-1.0\n",
      "Downloading the-movies-dataset.zip to ./movies\n",
      " 96%|███████████████████████████████████████▍ | 219M/228M [00:00<00:00, 214MB/s]\n",
      "100%|█████████████████████████████████████████| 228M/228M [00:00<00:00, 245MB/s]\n"
     ]
    }
   ],
   "source": [
    "!~/.local/bin/kaggle datasets download -d rounakbanik/the-movies-dataset -p ./movies --unzip"
   ]
  },
  {
   "cell_type": "code",
   "execution_count": 4,
   "metadata": {},
   "outputs": [
    {
     "name": "stderr",
     "output_type": "stream",
     "text": [
      "/tmp/ipykernel_13/736194301.py:3: DtypeWarning: Columns (10) have mixed types. Specify dtype option on import or set low_memory=False.\n",
      "  df = pd.read_csv(\"./movies/movies_metadata.csv\")\n"
     ]
    }
   ],
   "source": [
    "import pandas as pd\n",
    "\n",
    "df = pd.read_csv(\"./movies/movies_metadata.csv\")"
   ]
  },
  {
   "cell_type": "code",
   "execution_count": 5,
   "metadata": {},
   "outputs": [
    {
     "data": {
      "text/html": [
       "<div>\n",
       "<style scoped>\n",
       "    .dataframe tbody tr th:only-of-type {\n",
       "        vertical-align: middle;\n",
       "    }\n",
       "\n",
       "    .dataframe tbody tr th {\n",
       "        vertical-align: top;\n",
       "    }\n",
       "\n",
       "    .dataframe thead th {\n",
       "        text-align: right;\n",
       "    }\n",
       "</style>\n",
       "<table border=\"1\" class=\"dataframe\">\n",
       "  <thead>\n",
       "    <tr style=\"text-align: right;\">\n",
       "      <th></th>\n",
       "      <th>adult</th>\n",
       "      <th>belongs_to_collection</th>\n",
       "      <th>budget</th>\n",
       "      <th>genres</th>\n",
       "      <th>homepage</th>\n",
       "      <th>id</th>\n",
       "      <th>imdb_id</th>\n",
       "      <th>original_language</th>\n",
       "      <th>original_title</th>\n",
       "      <th>overview</th>\n",
       "      <th>...</th>\n",
       "      <th>release_date</th>\n",
       "      <th>revenue</th>\n",
       "      <th>runtime</th>\n",
       "      <th>spoken_languages</th>\n",
       "      <th>status</th>\n",
       "      <th>tagline</th>\n",
       "      <th>title</th>\n",
       "      <th>video</th>\n",
       "      <th>vote_average</th>\n",
       "      <th>vote_count</th>\n",
       "    </tr>\n",
       "  </thead>\n",
       "  <tbody>\n",
       "    <tr>\n",
       "      <th>0</th>\n",
       "      <td>False</td>\n",
       "      <td>{'id': 10194, 'name': 'Toy Story Collection', ...</td>\n",
       "      <td>30000000</td>\n",
       "      <td>[{'id': 16, 'name': 'Animation'}, {'id': 35, '...</td>\n",
       "      <td>http://toystory.disney.com/toy-story</td>\n",
       "      <td>862</td>\n",
       "      <td>tt0114709</td>\n",
       "      <td>en</td>\n",
       "      <td>Toy Story</td>\n",
       "      <td>Led by Woody, Andy's toys live happily in his ...</td>\n",
       "      <td>...</td>\n",
       "      <td>1995-10-30</td>\n",
       "      <td>373554033.0</td>\n",
       "      <td>81.0</td>\n",
       "      <td>[{'iso_639_1': 'en', 'name': 'English'}]</td>\n",
       "      <td>Released</td>\n",
       "      <td>NaN</td>\n",
       "      <td>Toy Story</td>\n",
       "      <td>False</td>\n",
       "      <td>7.7</td>\n",
       "      <td>5415.0</td>\n",
       "    </tr>\n",
       "    <tr>\n",
       "      <th>1</th>\n",
       "      <td>False</td>\n",
       "      <td>NaN</td>\n",
       "      <td>65000000</td>\n",
       "      <td>[{'id': 12, 'name': 'Adventure'}, {'id': 14, '...</td>\n",
       "      <td>NaN</td>\n",
       "      <td>8844</td>\n",
       "      <td>tt0113497</td>\n",
       "      <td>en</td>\n",
       "      <td>Jumanji</td>\n",
       "      <td>When siblings Judy and Peter discover an encha...</td>\n",
       "      <td>...</td>\n",
       "      <td>1995-12-15</td>\n",
       "      <td>262797249.0</td>\n",
       "      <td>104.0</td>\n",
       "      <td>[{'iso_639_1': 'en', 'name': 'English'}, {'iso...</td>\n",
       "      <td>Released</td>\n",
       "      <td>Roll the dice and unleash the excitement!</td>\n",
       "      <td>Jumanji</td>\n",
       "      <td>False</td>\n",
       "      <td>6.9</td>\n",
       "      <td>2413.0</td>\n",
       "    </tr>\n",
       "    <tr>\n",
       "      <th>2</th>\n",
       "      <td>False</td>\n",
       "      <td>{'id': 119050, 'name': 'Grumpy Old Men Collect...</td>\n",
       "      <td>0</td>\n",
       "      <td>[{'id': 10749, 'name': 'Romance'}, {'id': 35, ...</td>\n",
       "      <td>NaN</td>\n",
       "      <td>15602</td>\n",
       "      <td>tt0113228</td>\n",
       "      <td>en</td>\n",
       "      <td>Grumpier Old Men</td>\n",
       "      <td>A family wedding reignites the ancient feud be...</td>\n",
       "      <td>...</td>\n",
       "      <td>1995-12-22</td>\n",
       "      <td>0.0</td>\n",
       "      <td>101.0</td>\n",
       "      <td>[{'iso_639_1': 'en', 'name': 'English'}]</td>\n",
       "      <td>Released</td>\n",
       "      <td>Still Yelling. Still Fighting. Still Ready for...</td>\n",
       "      <td>Grumpier Old Men</td>\n",
       "      <td>False</td>\n",
       "      <td>6.5</td>\n",
       "      <td>92.0</td>\n",
       "    </tr>\n",
       "    <tr>\n",
       "      <th>3</th>\n",
       "      <td>False</td>\n",
       "      <td>NaN</td>\n",
       "      <td>16000000</td>\n",
       "      <td>[{'id': 35, 'name': 'Comedy'}, {'id': 18, 'nam...</td>\n",
       "      <td>NaN</td>\n",
       "      <td>31357</td>\n",
       "      <td>tt0114885</td>\n",
       "      <td>en</td>\n",
       "      <td>Waiting to Exhale</td>\n",
       "      <td>Cheated on, mistreated and stepped on, the wom...</td>\n",
       "      <td>...</td>\n",
       "      <td>1995-12-22</td>\n",
       "      <td>81452156.0</td>\n",
       "      <td>127.0</td>\n",
       "      <td>[{'iso_639_1': 'en', 'name': 'English'}]</td>\n",
       "      <td>Released</td>\n",
       "      <td>Friends are the people who let you be yourself...</td>\n",
       "      <td>Waiting to Exhale</td>\n",
       "      <td>False</td>\n",
       "      <td>6.1</td>\n",
       "      <td>34.0</td>\n",
       "    </tr>\n",
       "    <tr>\n",
       "      <th>4</th>\n",
       "      <td>False</td>\n",
       "      <td>{'id': 96871, 'name': 'Father of the Bride Col...</td>\n",
       "      <td>0</td>\n",
       "      <td>[{'id': 35, 'name': 'Comedy'}]</td>\n",
       "      <td>NaN</td>\n",
       "      <td>11862</td>\n",
       "      <td>tt0113041</td>\n",
       "      <td>en</td>\n",
       "      <td>Father of the Bride Part II</td>\n",
       "      <td>Just when George Banks has recovered from his ...</td>\n",
       "      <td>...</td>\n",
       "      <td>1995-02-10</td>\n",
       "      <td>76578911.0</td>\n",
       "      <td>106.0</td>\n",
       "      <td>[{'iso_639_1': 'en', 'name': 'English'}]</td>\n",
       "      <td>Released</td>\n",
       "      <td>Just When His World Is Back To Normal... He's ...</td>\n",
       "      <td>Father of the Bride Part II</td>\n",
       "      <td>False</td>\n",
       "      <td>5.7</td>\n",
       "      <td>173.0</td>\n",
       "    </tr>\n",
       "  </tbody>\n",
       "</table>\n",
       "<p>5 rows × 24 columns</p>\n",
       "</div>"
      ],
      "text/plain": [
       "   adult                              belongs_to_collection    budget  \\\n",
       "0  False  {'id': 10194, 'name': 'Toy Story Collection', ...  30000000   \n",
       "1  False                                                NaN  65000000   \n",
       "2  False  {'id': 119050, 'name': 'Grumpy Old Men Collect...         0   \n",
       "3  False                                                NaN  16000000   \n",
       "4  False  {'id': 96871, 'name': 'Father of the Bride Col...         0   \n",
       "\n",
       "                                              genres  \\\n",
       "0  [{'id': 16, 'name': 'Animation'}, {'id': 35, '...   \n",
       "1  [{'id': 12, 'name': 'Adventure'}, {'id': 14, '...   \n",
       "2  [{'id': 10749, 'name': 'Romance'}, {'id': 35, ...   \n",
       "3  [{'id': 35, 'name': 'Comedy'}, {'id': 18, 'nam...   \n",
       "4                     [{'id': 35, 'name': 'Comedy'}]   \n",
       "\n",
       "                               homepage     id    imdb_id original_language  \\\n",
       "0  http://toystory.disney.com/toy-story    862  tt0114709                en   \n",
       "1                                   NaN   8844  tt0113497                en   \n",
       "2                                   NaN  15602  tt0113228                en   \n",
       "3                                   NaN  31357  tt0114885                en   \n",
       "4                                   NaN  11862  tt0113041                en   \n",
       "\n",
       "                original_title  \\\n",
       "0                    Toy Story   \n",
       "1                      Jumanji   \n",
       "2             Grumpier Old Men   \n",
       "3            Waiting to Exhale   \n",
       "4  Father of the Bride Part II   \n",
       "\n",
       "                                            overview  ... release_date  \\\n",
       "0  Led by Woody, Andy's toys live happily in his ...  ...   1995-10-30   \n",
       "1  When siblings Judy and Peter discover an encha...  ...   1995-12-15   \n",
       "2  A family wedding reignites the ancient feud be...  ...   1995-12-22   \n",
       "3  Cheated on, mistreated and stepped on, the wom...  ...   1995-12-22   \n",
       "4  Just when George Banks has recovered from his ...  ...   1995-02-10   \n",
       "\n",
       "       revenue runtime                                   spoken_languages  \\\n",
       "0  373554033.0    81.0           [{'iso_639_1': 'en', 'name': 'English'}]   \n",
       "1  262797249.0   104.0  [{'iso_639_1': 'en', 'name': 'English'}, {'iso...   \n",
       "2          0.0   101.0           [{'iso_639_1': 'en', 'name': 'English'}]   \n",
       "3   81452156.0   127.0           [{'iso_639_1': 'en', 'name': 'English'}]   \n",
       "4   76578911.0   106.0           [{'iso_639_1': 'en', 'name': 'English'}]   \n",
       "\n",
       "     status                                            tagline  \\\n",
       "0  Released                                                NaN   \n",
       "1  Released          Roll the dice and unleash the excitement!   \n",
       "2  Released  Still Yelling. Still Fighting. Still Ready for...   \n",
       "3  Released  Friends are the people who let you be yourself...   \n",
       "4  Released  Just When His World Is Back To Normal... He's ...   \n",
       "\n",
       "                         title  video vote_average vote_count  \n",
       "0                    Toy Story  False          7.7     5415.0  \n",
       "1                      Jumanji  False          6.9     2413.0  \n",
       "2             Grumpier Old Men  False          6.5       92.0  \n",
       "3            Waiting to Exhale  False          6.1       34.0  \n",
       "4  Father of the Bride Part II  False          5.7      173.0  \n",
       "\n",
       "[5 rows x 24 columns]"
      ]
     },
     "execution_count": 5,
     "metadata": {},
     "output_type": "execute_result"
    }
   ],
   "source": [
    "df.head()"
   ]
  },
  {
   "cell_type": "code",
   "execution_count": 6,
   "metadata": {},
   "outputs": [
    {
     "data": {
      "text/plain": [
       "(45466, 24)"
      ]
     },
     "execution_count": 6,
     "metadata": {},
     "output_type": "execute_result"
    }
   ],
   "source": [
    "df.shape"
   ]
  },
  {
   "cell_type": "markdown",
   "metadata": {
    "id": "hoUjq1tPzz7P"
   },
   "source": [
    "#### Dataset 2\n",
    "\n",
    "Type: TSV file (`title.basics.tsv.gz`) from IMDb\n",
    "\n",
    "Method: The dataset was gathered programmatically using Python’s requests library from the IMDb official dataset repository. The file was downloaded and loaded into a pandas DataFrame.\n",
    "\n",
    "This dataset was used because it complete the Kaggle movies dataset by providing basic metadata about movies, including IMDb IDs, which allow linking the two datasets. This gives us a richer set of attributes (like `titleType`, `startYear`, and `genres`) to explore movie success factors.\n",
    "\n",
    "Dataset variables:\n",
    "\n",
    "*   *`tconst`: Unique identifier for each title (corresponds to imdb_id in Dataset 1)*\n",
    "*   *`primaryTitle`: The movie’s main title*\n",
    "*   *`startYear`: Release year of the title*\n",
    "*   *`runtimeMinutes`: Duration of the movie*\n",
    "*   *`genres`: Genres associated with the movie*"
   ]
  },
  {
   "cell_type": "code",
   "execution_count": 7,
   "metadata": {
    "id": "6zT0QxRyYmm7"
   },
   "outputs": [],
   "source": [
    "import requests\n",
    "\n",
    "url = \"https://datasets.imdbws.com/title.basics.tsv.gz\"\n",
    "filename = \"title.basics.tsv.gz\"\n",
    "\n",
    "response = requests.get(url)\n",
    "with open(filename, 'wb') as f:\n",
    "    f.write(response.content)"
   ]
  },
  {
   "cell_type": "code",
   "execution_count": 8,
   "metadata": {},
   "outputs": [
    {
     "data": {
      "text/html": [
       "<div>\n",
       "<style scoped>\n",
       "    .dataframe tbody tr th:only-of-type {\n",
       "        vertical-align: middle;\n",
       "    }\n",
       "\n",
       "    .dataframe tbody tr th {\n",
       "        vertical-align: top;\n",
       "    }\n",
       "\n",
       "    .dataframe thead th {\n",
       "        text-align: right;\n",
       "    }\n",
       "</style>\n",
       "<table border=\"1\" class=\"dataframe\">\n",
       "  <thead>\n",
       "    <tr style=\"text-align: right;\">\n",
       "      <th></th>\n",
       "      <th>tconst</th>\n",
       "      <th>titleType</th>\n",
       "      <th>primaryTitle</th>\n",
       "      <th>originalTitle</th>\n",
       "      <th>isAdult</th>\n",
       "      <th>startYear</th>\n",
       "      <th>endYear</th>\n",
       "      <th>runtimeMinutes</th>\n",
       "      <th>genres</th>\n",
       "    </tr>\n",
       "  </thead>\n",
       "  <tbody>\n",
       "    <tr>\n",
       "      <th>0</th>\n",
       "      <td>tt0000001</td>\n",
       "      <td>short</td>\n",
       "      <td>Carmencita</td>\n",
       "      <td>Carmencita</td>\n",
       "      <td>0</td>\n",
       "      <td>1894</td>\n",
       "      <td>NaN</td>\n",
       "      <td>1</td>\n",
       "      <td>Documentary,Short</td>\n",
       "    </tr>\n",
       "    <tr>\n",
       "      <th>1</th>\n",
       "      <td>tt0000002</td>\n",
       "      <td>short</td>\n",
       "      <td>Le clown et ses chiens</td>\n",
       "      <td>Le clown et ses chiens</td>\n",
       "      <td>0</td>\n",
       "      <td>1892</td>\n",
       "      <td>NaN</td>\n",
       "      <td>5</td>\n",
       "      <td>Animation,Short</td>\n",
       "    </tr>\n",
       "    <tr>\n",
       "      <th>2</th>\n",
       "      <td>tt0000003</td>\n",
       "      <td>short</td>\n",
       "      <td>Poor Pierrot</td>\n",
       "      <td>Pauvre Pierrot</td>\n",
       "      <td>0</td>\n",
       "      <td>1892</td>\n",
       "      <td>NaN</td>\n",
       "      <td>5</td>\n",
       "      <td>Animation,Comedy,Romance</td>\n",
       "    </tr>\n",
       "    <tr>\n",
       "      <th>3</th>\n",
       "      <td>tt0000004</td>\n",
       "      <td>short</td>\n",
       "      <td>Un bon bock</td>\n",
       "      <td>Un bon bock</td>\n",
       "      <td>0</td>\n",
       "      <td>1892</td>\n",
       "      <td>NaN</td>\n",
       "      <td>12</td>\n",
       "      <td>Animation,Short</td>\n",
       "    </tr>\n",
       "    <tr>\n",
       "      <th>4</th>\n",
       "      <td>tt0000005</td>\n",
       "      <td>short</td>\n",
       "      <td>Blacksmith Scene</td>\n",
       "      <td>Blacksmith Scene</td>\n",
       "      <td>0</td>\n",
       "      <td>1893</td>\n",
       "      <td>NaN</td>\n",
       "      <td>1</td>\n",
       "      <td>Short</td>\n",
       "    </tr>\n",
       "  </tbody>\n",
       "</table>\n",
       "</div>"
      ],
      "text/plain": [
       "      tconst titleType            primaryTitle           originalTitle  \\\n",
       "0  tt0000001     short              Carmencita              Carmencita   \n",
       "1  tt0000002     short  Le clown et ses chiens  Le clown et ses chiens   \n",
       "2  tt0000003     short            Poor Pierrot          Pauvre Pierrot   \n",
       "3  tt0000004     short             Un bon bock             Un bon bock   \n",
       "4  tt0000005     short        Blacksmith Scene        Blacksmith Scene   \n",
       "\n",
       "  isAdult startYear endYear runtimeMinutes                    genres  \n",
       "0       0      1894     NaN              1         Documentary,Short  \n",
       "1       0      1892     NaN              5           Animation,Short  \n",
       "2       0      1892     NaN              5  Animation,Comedy,Romance  \n",
       "3       0      1892     NaN             12           Animation,Short  \n",
       "4       0      1893     NaN              1                     Short  "
      ]
     },
     "execution_count": 8,
     "metadata": {},
     "output_type": "execute_result"
    }
   ],
   "source": [
    "df_title_basics = pd.read_csv(\"title.basics.tsv.gz\", sep='\\t', dtype=str, na_values='\\\\N')\n",
    "df_title_basics.head()"
   ]
  },
  {
   "cell_type": "code",
   "execution_count": 9,
   "metadata": {},
   "outputs": [
    {
     "data": {
      "text/plain": [
       "(11812577, 9)"
      ]
     },
     "execution_count": 9,
     "metadata": {},
     "output_type": "execute_result"
    }
   ],
   "source": [
    "df_title_basics.shape"
   ]
  },
  {
   "cell_type": "code",
   "execution_count": 10,
   "metadata": {},
   "outputs": [],
   "source": [
    "#store the raw data in your local data store\n",
    "df.to_csv(\"raw_movies_metadata.csv\", index=False)\n",
    "df_title_basics.to_csv(\"raw_imdb_basics.csv\", index=False)"
   ]
  },
  {
   "cell_type": "markdown",
   "metadata": {
    "id": "QwSWIVmotLgV"
   },
   "source": [
    "## 2. Assess data"
   ]
  },
  {
   "cell_type": "code",
   "execution_count": 11,
   "metadata": {},
   "outputs": [
    {
     "name": "stdout",
     "output_type": "stream",
     "text": [
      "<class 'pandas.core.frame.DataFrame'>\n",
      "RangeIndex: 45466 entries, 0 to 45465\n",
      "Data columns (total 24 columns):\n",
      " #   Column                 Non-Null Count  Dtype  \n",
      "---  ------                 --------------  -----  \n",
      " 0   adult                  45466 non-null  object \n",
      " 1   belongs_to_collection  4494 non-null   object \n",
      " 2   budget                 45466 non-null  object \n",
      " 3   genres                 45466 non-null  object \n",
      " 4   homepage               7782 non-null   object \n",
      " 5   id                     45466 non-null  object \n",
      " 6   imdb_id                45449 non-null  object \n",
      " 7   original_language      45455 non-null  object \n",
      " 8   original_title         45466 non-null  object \n",
      " 9   overview               44512 non-null  object \n",
      " 10  popularity             45461 non-null  object \n",
      " 11  poster_path            45080 non-null  object \n",
      " 12  production_companies   45463 non-null  object \n",
      " 13  production_countries   45463 non-null  object \n",
      " 14  release_date           45379 non-null  object \n",
      " 15  revenue                45460 non-null  float64\n",
      " 16  runtime                45203 non-null  float64\n",
      " 17  spoken_languages       45460 non-null  object \n",
      " 18  status                 45379 non-null  object \n",
      " 19  tagline                20412 non-null  object \n",
      " 20  title                  45460 non-null  object \n",
      " 21  video                  45460 non-null  object \n",
      " 22  vote_average           45460 non-null  float64\n",
      " 23  vote_count             45460 non-null  float64\n",
      "dtypes: float64(4), object(20)\n",
      "memory usage: 8.3+ MB\n",
      "<class 'pandas.core.frame.DataFrame'>\n",
      "RangeIndex: 11812577 entries, 0 to 11812576\n",
      "Data columns (total 9 columns):\n",
      " #   Column          Dtype \n",
      "---  ------          ----- \n",
      " 0   tconst          object\n",
      " 1   titleType       object\n",
      " 2   primaryTitle    object\n",
      " 3   originalTitle   object\n",
      " 4   isAdult         object\n",
      " 5   startYear       object\n",
      " 6   endYear         object\n",
      " 7   runtimeMinutes  object\n",
      " 8   genres          object\n",
      "dtypes: object(9)\n",
      "memory usage: 811.1+ MB\n"
     ]
    }
   ],
   "source": [
    "df.info()\n",
    "df_title_basics.info()"
   ]
  },
  {
   "cell_type": "markdown",
   "metadata": {},
   "source": [
    "df (movies_metadata) has 24 columns, many of which are stored as object type, including several that should be numeric like `budget` and `popularity`.\n",
    "\n",
    "df_title_basics has 9 columns, all stored as object type, even for variables like `runtimeMinutes` and `startYear`, which should be numeric.\n",
    "\n",
    "In the **cleaning** phase, we will convert columns to their correct data types and fix any inconsistent or invalid values. Specifically:\n",
    "\n",
    "In df (movies_metadata):\n",
    "- `budget` → convert to float\n",
    "- `revenue` → already float64, but we will treat 0 values as missing\n",
    "- `popularity` → convert to float\n",
    "- `release_date` → convert to datetime\n",
    "- `vote_count` → convert to int\n",
    "\n",
    "In df_title_basics:\n",
    "- `startYear` → convert to int\n",
    "- `endYear` → convert to int, accounting for missing values\n",
    "- `runtimeMinutes` → convert to int, handling non-numeric entries\n",
    "- `isAdult` → convert to int or bool\n",
    "---"
   ]
  },
  {
   "cell_type": "code",
   "execution_count": 12,
   "metadata": {},
   "outputs": [
    {
     "data": {
      "text/html": [
       "<div>\n",
       "<style scoped>\n",
       "    .dataframe tbody tr th:only-of-type {\n",
       "        vertical-align: middle;\n",
       "    }\n",
       "\n",
       "    .dataframe tbody tr th {\n",
       "        vertical-align: top;\n",
       "    }\n",
       "\n",
       "    .dataframe thead th {\n",
       "        text-align: right;\n",
       "    }\n",
       "</style>\n",
       "<table border=\"1\" class=\"dataframe\">\n",
       "  <thead>\n",
       "    <tr style=\"text-align: right;\">\n",
       "      <th></th>\n",
       "      <th>revenue</th>\n",
       "      <th>runtime</th>\n",
       "      <th>vote_average</th>\n",
       "      <th>vote_count</th>\n",
       "    </tr>\n",
       "  </thead>\n",
       "  <tbody>\n",
       "    <tr>\n",
       "      <th>count</th>\n",
       "      <td>4.546000e+04</td>\n",
       "      <td>45203.000000</td>\n",
       "      <td>45460.000000</td>\n",
       "      <td>45460.000000</td>\n",
       "    </tr>\n",
       "    <tr>\n",
       "      <th>mean</th>\n",
       "      <td>1.120935e+07</td>\n",
       "      <td>94.128199</td>\n",
       "      <td>5.618207</td>\n",
       "      <td>109.897338</td>\n",
       "    </tr>\n",
       "    <tr>\n",
       "      <th>std</th>\n",
       "      <td>6.433225e+07</td>\n",
       "      <td>38.407810</td>\n",
       "      <td>1.924216</td>\n",
       "      <td>491.310374</td>\n",
       "    </tr>\n",
       "    <tr>\n",
       "      <th>min</th>\n",
       "      <td>0.000000e+00</td>\n",
       "      <td>0.000000</td>\n",
       "      <td>0.000000</td>\n",
       "      <td>0.000000</td>\n",
       "    </tr>\n",
       "    <tr>\n",
       "      <th>25%</th>\n",
       "      <td>0.000000e+00</td>\n",
       "      <td>85.000000</td>\n",
       "      <td>5.000000</td>\n",
       "      <td>3.000000</td>\n",
       "    </tr>\n",
       "    <tr>\n",
       "      <th>50%</th>\n",
       "      <td>0.000000e+00</td>\n",
       "      <td>95.000000</td>\n",
       "      <td>6.000000</td>\n",
       "      <td>10.000000</td>\n",
       "    </tr>\n",
       "    <tr>\n",
       "      <th>75%</th>\n",
       "      <td>0.000000e+00</td>\n",
       "      <td>107.000000</td>\n",
       "      <td>6.800000</td>\n",
       "      <td>34.000000</td>\n",
       "    </tr>\n",
       "    <tr>\n",
       "      <th>max</th>\n",
       "      <td>2.787965e+09</td>\n",
       "      <td>1256.000000</td>\n",
       "      <td>10.000000</td>\n",
       "      <td>14075.000000</td>\n",
       "    </tr>\n",
       "  </tbody>\n",
       "</table>\n",
       "</div>"
      ],
      "text/plain": [
       "            revenue       runtime  vote_average    vote_count\n",
       "count  4.546000e+04  45203.000000  45460.000000  45460.000000\n",
       "mean   1.120935e+07     94.128199      5.618207    109.897338\n",
       "std    6.433225e+07     38.407810      1.924216    491.310374\n",
       "min    0.000000e+00      0.000000      0.000000      0.000000\n",
       "25%    0.000000e+00     85.000000      5.000000      3.000000\n",
       "50%    0.000000e+00     95.000000      6.000000     10.000000\n",
       "75%    0.000000e+00    107.000000      6.800000     34.000000\n",
       "max    2.787965e+09   1256.000000     10.000000  14075.000000"
      ]
     },
     "execution_count": 12,
     "metadata": {},
     "output_type": "execute_result"
    }
   ],
   "source": [
    "df.describe()"
   ]
  },
  {
   "cell_type": "markdown",
   "metadata": {},
   "source": [
    "- `revenue`, `budget`, and `vote_count` all have min = 0, which is not realistic.\n",
    "- Many rows have 0 `revenue` or `budget`, which may mean missing values, not actual zeros."
   ]
  },
  {
   "cell_type": "code",
   "execution_count": 13,
   "metadata": {},
   "outputs": [
    {
     "data": {
      "text/html": [
       "<div>\n",
       "<style scoped>\n",
       "    .dataframe tbody tr th:only-of-type {\n",
       "        vertical-align: middle;\n",
       "    }\n",
       "\n",
       "    .dataframe tbody tr th {\n",
       "        vertical-align: top;\n",
       "    }\n",
       "\n",
       "    .dataframe thead th {\n",
       "        text-align: right;\n",
       "    }\n",
       "</style>\n",
       "<table border=\"1\" class=\"dataframe\">\n",
       "  <thead>\n",
       "    <tr style=\"text-align: right;\">\n",
       "      <th></th>\n",
       "      <th>tconst</th>\n",
       "      <th>titleType</th>\n",
       "      <th>primaryTitle</th>\n",
       "      <th>originalTitle</th>\n",
       "      <th>isAdult</th>\n",
       "      <th>startYear</th>\n",
       "      <th>endYear</th>\n",
       "      <th>runtimeMinutes</th>\n",
       "      <th>genres</th>\n",
       "    </tr>\n",
       "  </thead>\n",
       "  <tbody>\n",
       "    <tr>\n",
       "      <th>count</th>\n",
       "      <td>11812577</td>\n",
       "      <td>11812577</td>\n",
       "      <td>11812557</td>\n",
       "      <td>11812557</td>\n",
       "      <td>11812576</td>\n",
       "      <td>10373797</td>\n",
       "      <td>144710</td>\n",
       "      <td>3938912</td>\n",
       "      <td>11289695</td>\n",
       "    </tr>\n",
       "    <tr>\n",
       "      <th>unique</th>\n",
       "      <td>11812577</td>\n",
       "      <td>11</td>\n",
       "      <td>5322503</td>\n",
       "      <td>5348326</td>\n",
       "      <td>36</td>\n",
       "      <td>152</td>\n",
       "      <td>100</td>\n",
       "      <td>987</td>\n",
       "      <td>2371</td>\n",
       "    </tr>\n",
       "    <tr>\n",
       "      <th>top</th>\n",
       "      <td>tt0000001</td>\n",
       "      <td>tvEpisode</td>\n",
       "      <td>Episode #1.1</td>\n",
       "      <td>Episode #1.1</td>\n",
       "      <td>0</td>\n",
       "      <td>2021</td>\n",
       "      <td>2019</td>\n",
       "      <td>30</td>\n",
       "      <td>Drama</td>\n",
       "    </tr>\n",
       "    <tr>\n",
       "      <th>freq</th>\n",
       "      <td>1</td>\n",
       "      <td>9091857</td>\n",
       "      <td>55885</td>\n",
       "      <td>55885</td>\n",
       "      <td>11427705</td>\n",
       "      <td>515630</td>\n",
       "      <td>7513</td>\n",
       "      <td>395791</td>\n",
       "      <td>1328099</td>\n",
       "    </tr>\n",
       "  </tbody>\n",
       "</table>\n",
       "</div>"
      ],
      "text/plain": [
       "           tconst  titleType  primaryTitle originalTitle   isAdult startYear  \\\n",
       "count    11812577   11812577      11812557      11812557  11812576  10373797   \n",
       "unique   11812577         11       5322503       5348326        36       152   \n",
       "top     tt0000001  tvEpisode  Episode #1.1  Episode #1.1         0      2021   \n",
       "freq            1    9091857         55885         55885  11427705    515630   \n",
       "\n",
       "       endYear runtimeMinutes    genres  \n",
       "count   144710        3938912  11289695  \n",
       "unique     100            987      2371  \n",
       "top       2019             30     Drama  \n",
       "freq      7513         395791   1328099  "
      ]
     },
     "execution_count": 13,
     "metadata": {},
     "output_type": "execute_result"
    }
   ],
   "source": [
    "df_title_basics.describe()"
   ]
  },
  {
   "cell_type": "markdown",
   "metadata": {},
   "source": [
    "- `runtimeMinutes` top value is \"30\" (a string). This column has invalid string types.\n",
    "- High cardinality in many fields (primaryTitle, genres, etc.)\n",
    "---"
   ]
  },
  {
   "cell_type": "code",
   "execution_count": 14,
   "metadata": {},
   "outputs": [
    {
     "data": {
      "text/plain": [
       "belongs_to_collection    40972\n",
       "homepage                 37684\n",
       "tagline                  25054\n",
       "overview                   954\n",
       "poster_path                386\n",
       "runtime                    263\n",
       "status                      87\n",
       "release_date                87\n",
       "imdb_id                     17\n",
       "original_language           11\n",
       "spoken_languages             6\n",
       "title                        6\n",
       "video                        6\n",
       "vote_average                 6\n",
       "revenue                      6\n",
       "vote_count                   6\n",
       "popularity                   5\n",
       "production_companies         3\n",
       "production_countries         3\n",
       "original_title               0\n",
       "id                           0\n",
       "genres                       0\n",
       "budget                       0\n",
       "adult                        0\n",
       "dtype: int64"
      ]
     },
     "execution_count": 14,
     "metadata": {},
     "output_type": "execute_result"
    }
   ],
   "source": [
    "df.isnull().sum().sort_values(ascending=False)"
   ]
  },
  {
   "cell_type": "markdown",
   "metadata": {},
   "source": [
    "- `belongs_to_collection`, `homepage` and `tagline` have a lot of missing values.\n",
    "- `imdb_id` has 17 missing values which important for merging with the df_title_basics.\n",
    "- `release_date`, `status`, `runtime` have small number of missing values."
   ]
  },
  {
   "cell_type": "code",
   "execution_count": 15,
   "metadata": {},
   "outputs": [
    {
     "data": {
      "text/plain": [
       "endYear           11667867\n",
       "runtimeMinutes     7873665\n",
       "startYear          1438780\n",
       "genres              522882\n",
       "primaryTitle            20\n",
       "originalTitle           20\n",
       "isAdult                  1\n",
       "tconst                   0\n",
       "titleType                0\n",
       "dtype: int64"
      ]
     },
     "execution_count": 15,
     "metadata": {},
     "output_type": "execute_result"
    }
   ],
   "source": [
    "df_title_basics.isnull().sum().sort_values(ascending=False)"
   ]
  },
  {
   "cell_type": "markdown",
   "metadata": {},
   "source": [
    "- `endYear` is missing more than 11 million rows, This is a major completeness issue, which could affect the analysis that could involving a movie’s end year or duration.\n",
    "- `runtimeMinutes` is missing nearly 8 million rows, this also limits our ability to analyze the relationship between runtime and other factors like popularity or genre.\n",
    "- `startYear` is missing nearly 1.4 million rows. this is also limits our ability to analysis because release year is often used for time based trends and grouping.\n",
    "- `genres` is missing in nearly 500K rows, while it is a key categorical variable for classification and comparison, so this affects the completeness and usefulness of the data.\n",
    "---"
   ]
  },
  {
   "cell_type": "code",
   "execution_count": 16,
   "metadata": {},
   "outputs": [
    {
     "data": {
      "text/plain": [
       "13"
      ]
     },
     "execution_count": 16,
     "metadata": {},
     "output_type": "execute_result"
    }
   ],
   "source": [
    "df.duplicated().sum()"
   ]
  },
  {
   "cell_type": "markdown",
   "metadata": {},
   "source": [
    "The df (movies_metadata) dataset contains 13 duplicate rows, which is a uniqueness issue. "
   ]
  },
  {
   "cell_type": "code",
   "execution_count": 17,
   "metadata": {},
   "outputs": [
    {
     "data": {
      "text/plain": [
       "0"
      ]
     },
     "execution_count": 17,
     "metadata": {},
     "output_type": "execute_result"
    }
   ],
   "source": [
    "df_title_basics.duplicated().sum()"
   ]
  },
  {
   "cell_type": "markdown",
   "metadata": {},
   "source": [
    "No duplicated rows in the df_title_basics.\n",
    "\n",
    "---"
   ]
  },
  {
   "cell_type": "markdown",
   "metadata": {},
   "source": [
    "Now we'll search for low-variance or constant columns and potential ID fields."
   ]
  },
  {
   "cell_type": "code",
   "execution_count": 18,
   "metadata": {
    "scrolled": false
   },
   "outputs": [
    {
     "data": {
      "text/plain": [
       "video                        2\n",
       "adult                        5\n",
       "status                       6\n",
       "vote_average                92\n",
       "original_language           92\n",
       "runtime                    353\n",
       "budget                    1226\n",
       "belongs_to_collection     1698\n",
       "vote_count                1820\n",
       "spoken_languages          1931\n",
       "production_countries      2393\n",
       "genres                    4069\n",
       "revenue                   6863\n",
       "homepage                  7673\n",
       "release_date             17336\n",
       "tagline                  20283\n",
       "production_companies     22708\n",
       "title                    42277\n",
       "original_title           43373\n",
       "popularity               44176\n",
       "overview                 44307\n",
       "poster_path              45024\n",
       "imdb_id                  45417\n",
       "id                       45436\n",
       "dtype: int64"
      ]
     },
     "execution_count": 18,
     "metadata": {},
     "output_type": "execute_result"
    }
   ],
   "source": [
    "df.nunique().sort_values()"
   ]
  },
  {
   "cell_type": "markdown",
   "metadata": {},
   "source": [
    "- `video`, `adult`, `status` have very few unique values consider converting to categorical or dropping.\n",
    "- `title` and `original_title` have many unique values.\n",
    "- `genres` has 4,000+ unique strings, likely messy structure (stringified lists).\n",
    "---"
   ]
  },
  {
   "cell_type": "code",
   "execution_count": 19,
   "metadata": {},
   "outputs": [
    {
     "data": {
      "text/plain": [
       "titleType               11\n",
       "isAdult                 36\n",
       "endYear                100\n",
       "startYear              152\n",
       "runtimeMinutes         987\n",
       "genres                2371\n",
       "primaryTitle       5322503\n",
       "originalTitle      5348326\n",
       "tconst            11812577\n",
       "dtype: int64"
      ]
     },
     "execution_count": 19,
     "metadata": {},
     "output_type": "execute_result"
    }
   ],
   "source": [
    "df_title_basics.nunique().sort_values()"
   ]
  },
  {
   "cell_type": "markdown",
   "metadata": {},
   "source": [
    "- `titleType`, `isAdult`, `endYear`, `startYear`, and `genres` columns have relatively low cardinality, suggesting they are categorical variables suitable for grouping or filtering.\n",
    "- `primaryTitle` and `originalTitle` each have over 5 million unique values, and `tconst` has over 11 million unique identifiers, which reflects very high cardinality. While this is expected (since titles and IDs should be unique), high-cardinality fields can complicate plotting, memory usage, and some types of grouping or aggregation."
   ]
  },
  {
   "cell_type": "markdown",
   "metadata": {
    "id": "adaK2iPNzVu4"
   },
   "source": [
    "### Quality Issue 1: Missing/Incomplete Values"
   ]
  },
  {
   "cell_type": "code",
   "execution_count": 20,
   "metadata": {},
   "outputs": [
    {
     "name": "stdout",
     "output_type": "stream",
     "text": [
      "<class 'pandas.core.frame.DataFrame'>\n",
      "RangeIndex: 45466 entries, 0 to 45465\n",
      "Data columns (total 24 columns):\n",
      " #   Column                 Non-Null Count  Dtype  \n",
      "---  ------                 --------------  -----  \n",
      " 0   adult                  45466 non-null  object \n",
      " 1   belongs_to_collection  4494 non-null   object \n",
      " 2   budget                 45466 non-null  object \n",
      " 3   genres                 45466 non-null  object \n",
      " 4   homepage               7782 non-null   object \n",
      " 5   id                     45466 non-null  object \n",
      " 6   imdb_id                45449 non-null  object \n",
      " 7   original_language      45455 non-null  object \n",
      " 8   original_title         45466 non-null  object \n",
      " 9   overview               44512 non-null  object \n",
      " 10  popularity             45461 non-null  object \n",
      " 11  poster_path            45080 non-null  object \n",
      " 12  production_companies   45463 non-null  object \n",
      " 13  production_countries   45463 non-null  object \n",
      " 14  release_date           45379 non-null  object \n",
      " 15  revenue                45460 non-null  float64\n",
      " 16  runtime                45203 non-null  float64\n",
      " 17  spoken_languages       45460 non-null  object \n",
      " 18  status                 45379 non-null  object \n",
      " 19  tagline                20412 non-null  object \n",
      " 20  title                  45460 non-null  object \n",
      " 21  video                  45460 non-null  object \n",
      " 22  vote_average           45460 non-null  float64\n",
      " 23  vote_count             45460 non-null  float64\n",
      "dtypes: float64(4), object(20)\n",
      "memory usage: 8.3+ MB\n"
     ]
    }
   ],
   "source": [
    "#Inspecting the dataframe visually\n",
    "df.info()"
   ]
  },
  {
   "cell_type": "code",
   "execution_count": 21,
   "metadata": {},
   "outputs": [
    {
     "data": {
      "text/plain": [
       "belongs_to_collection    40972\n",
       "homepage                 37684\n",
       "tagline                  25054\n",
       "overview                   954\n",
       "poster_path                386\n",
       "runtime                    263\n",
       "status                      87\n",
       "release_date                87\n",
       "imdb_id                     17\n",
       "original_language           11\n",
       "spoken_languages             6\n",
       "title                        6\n",
       "video                        6\n",
       "vote_average                 6\n",
       "revenue                      6\n",
       "vote_count                   6\n",
       "popularity                   5\n",
       "production_companies         3\n",
       "production_countries         3\n",
       "original_title               0\n",
       "id                           0\n",
       "genres                       0\n",
       "budget                       0\n",
       "adult                        0\n",
       "dtype: int64"
      ]
     },
     "execution_count": 21,
     "metadata": {},
     "output_type": "execute_result"
    }
   ],
   "source": [
    "#Inspecting the dataframe programmatically\n",
    "df.isnull().sum().sort_values(ascending=False)"
   ]
  },
  {
   "cell_type": "markdown",
   "metadata": {},
   "source": [
    "**Issue and justification:**\n",
    "The movies_metadata dataset has significant missing values in important columns:\n",
    "- `release_date` is missing in 87 rows\n",
    "- `runtime` is missing in 263 rows\n",
    "- `overview` and `tagline` are missing in 954 and 25,054 rows respectively\n",
    "\n",
    "These fields are critical for temporal and content based analysis, missing values in `release_date` affect the ability to analyze movie trends over time, while missing `runtime` limits any duration based insights, while `overview` and `tagline` affect textual and genre based modeling. This impacts the completeness and accuracy of the dataset."
   ]
  },
  {
   "cell_type": "code",
   "execution_count": 22,
   "metadata": {
    "id": "SpW59kh-zl8d"
   },
   "outputs": [
    {
     "name": "stdout",
     "output_type": "stream",
     "text": [
      "<class 'pandas.core.frame.DataFrame'>\n",
      "RangeIndex: 11812577 entries, 0 to 11812576\n",
      "Data columns (total 9 columns):\n",
      " #   Column          Dtype \n",
      "---  ------          ----- \n",
      " 0   tconst          object\n",
      " 1   titleType       object\n",
      " 2   primaryTitle    object\n",
      " 3   originalTitle   object\n",
      " 4   isAdult         object\n",
      " 5   startYear       object\n",
      " 6   endYear         object\n",
      " 7   runtimeMinutes  object\n",
      " 8   genres          object\n",
      "dtypes: object(9)\n",
      "memory usage: 811.1+ MB\n"
     ]
    }
   ],
   "source": [
    "#Inspecting the dataframe visually\n",
    "df_title_basics.info()"
   ]
  },
  {
   "cell_type": "code",
   "execution_count": 23,
   "metadata": {
    "id": "-qfcocStzsKg"
   },
   "outputs": [
    {
     "data": {
      "text/plain": [
       "endYear           11667867\n",
       "runtimeMinutes     7873665\n",
       "startYear          1438780\n",
       "genres              522882\n",
       "primaryTitle            20\n",
       "originalTitle           20\n",
       "isAdult                  1\n",
       "tconst                   0\n",
       "titleType                0\n",
       "dtype: int64"
      ]
     },
     "execution_count": 23,
     "metadata": {},
     "output_type": "execute_result"
    }
   ],
   "source": [
    "#Inspecting the dataframe programmatically\n",
    "df_title_basics.isnull().sum().sort_values(ascending=False)"
   ]
  },
  {
   "cell_type": "markdown",
   "metadata": {},
   "source": [
    "**Issue and justification:** \n",
    "The df_title_basics dataset has extensive missing values in critical fields:\n",
    "- `endYear`: missing in 11M+ rows\n",
    "- `runtimeMinutes`: missing in 8M+ rows\n",
    "- `startYear`: missing in 1.4M+ rows\n",
    "\n",
    "These columns are essential for analyzing movie trends and durations, missing data in these columns affects completeness and validity."
   ]
  },
  {
   "cell_type": "markdown",
   "metadata": {
    "id": "8Be77N4I1AmE"
   },
   "source": [
    "### Quality Issue 2:  Invalid/Inconsistent Data Types"
   ]
  },
  {
   "cell_type": "code",
   "execution_count": 24,
   "metadata": {
    "id": "iMhHyiyLM2I3",
    "scrolled": true
   },
   "outputs": [
    {
     "data": {
      "text/plain": [
       "adult                     object\n",
       "belongs_to_collection     object\n",
       "budget                    object\n",
       "genres                    object\n",
       "homepage                  object\n",
       "id                        object\n",
       "imdb_id                   object\n",
       "original_language         object\n",
       "original_title            object\n",
       "overview                  object\n",
       "popularity                object\n",
       "poster_path               object\n",
       "production_companies      object\n",
       "production_countries      object\n",
       "release_date              object\n",
       "revenue                  float64\n",
       "runtime                  float64\n",
       "spoken_languages          object\n",
       "status                    object\n",
       "tagline                   object\n",
       "title                     object\n",
       "video                     object\n",
       "vote_average             float64\n",
       "vote_count               float64\n",
       "dtype: object"
      ]
     },
     "execution_count": 24,
     "metadata": {},
     "output_type": "execute_result"
    }
   ],
   "source": [
    "#Inspecting the dataframe visually\n",
    "df.dtypes"
   ]
  },
  {
   "cell_type": "code",
   "execution_count": 25,
   "metadata": {
    "id": "bnviRCUI-bb7"
   },
   "outputs": [
    {
     "name": "stdout",
     "output_type": "stream",
     "text": [
      "budget: ['30000000' '65000000' '0' '16000000' '60000000' '58000000' '35000000'\n",
      " '62000000' '44000000' '98000000']\n",
      "popularity: [21.946943 17.015539 11.7129 3.859495 8.387519 17.924927 6.677277 2.561161\n",
      " 5.23158 14.686036]\n",
      "release_date: ['1995-10-30' '1995-12-15' '1995-12-22' '1995-02-10' '1995-11-16'\n",
      " '1995-11-17' '1995-11-22' '1995-12-13' '1995-12-09' '1995-11-10']\n"
     ]
    }
   ],
   "source": [
    "#Inspecting the dataframe programmatically\n",
    "print('budget:',df['budget'].unique()[:10])\n",
    "print('popularity:',df['popularity'].unique()[:10])\n",
    "print('release_date:',df['release_date'].unique()[:10])"
   ]
  },
  {
   "cell_type": "markdown",
   "metadata": {},
   "source": [
    "**Issue and justification:**\n",
    "columns like `budget`, `popularity`, and `release_date` are stored as strings, even though they represent numeric or datetime values. This violates validity and accuracy, and these fields must be converted to appropriate data types (float or datetime) for meaningful aggregation and analysis."
   ]
  },
  {
   "cell_type": "code",
   "execution_count": 26,
   "metadata": {},
   "outputs": [
    {
     "data": {
      "text/plain": [
       "tconst            object\n",
       "titleType         object\n",
       "primaryTitle      object\n",
       "originalTitle     object\n",
       "isAdult           object\n",
       "startYear         object\n",
       "endYear           object\n",
       "runtimeMinutes    object\n",
       "genres            object\n",
       "dtype: object"
      ]
     },
     "execution_count": 26,
     "metadata": {},
     "output_type": "execute_result"
    }
   ],
   "source": [
    "#Inspecting the dataframe visually\n",
    "df_title_basics.dtypes"
   ]
  },
  {
   "cell_type": "code",
   "execution_count": 27,
   "metadata": {},
   "outputs": [
    {
     "name": "stdout",
     "output_type": "stream",
     "text": [
      "runtimeMinutes: ['1' '5' '12' '45' '2' nan '3' '100' '13' '6']\n",
      "startYear: ['1894' '1892' '1893' '1895' '1896' '1898' '1897' '1900' '1899' '1901']\n",
      "endYear: [nan '1947' '1945' '1955' '1949' '1958' '1951' '1950' '1952' '1954']\n"
     ]
    }
   ],
   "source": [
    "#Inspecting the dataframe programmatically\n",
    "print('runtimeMinutes:', df_title_basics['runtimeMinutes'].unique()[:10])\n",
    "print('startYear:', df_title_basics['startYear'].unique()[:10])\n",
    "print('endYear:', df_title_basics['endYear'].unique()[:10])"
   ]
  },
  {
   "cell_type": "markdown",
   "metadata": {},
   "source": [
    "**Issue and justification:**\n",
    "`runtimeMinutes`, `startYear`, and `endYear` columns are stored as strings instead of numeric types. This includes values like 'nan', or other non-numeric entries. These should be numeric for accurate analysis of movie durations and release trends. This violates validity and consistency, and requires conversion and cleaning."
   ]
  },
  {
   "cell_type": "markdown",
   "metadata": {
    "id": "lXhGiYyiwwKN"
   },
   "source": [
    "### Tidiness Issue 1: One Observation Spread Across Two Tables"
   ]
  },
  {
   "cell_type": "code",
   "execution_count": 28,
   "metadata": {
    "id": "fleC5rORI0Xl"
   },
   "outputs": [
    {
     "data": {
      "text/html": [
       "<div>\n",
       "<style scoped>\n",
       "    .dataframe tbody tr th:only-of-type {\n",
       "        vertical-align: middle;\n",
       "    }\n",
       "\n",
       "    .dataframe tbody tr th {\n",
       "        vertical-align: top;\n",
       "    }\n",
       "\n",
       "    .dataframe thead th {\n",
       "        text-align: right;\n",
       "    }\n",
       "</style>\n",
       "<table border=\"1\" class=\"dataframe\">\n",
       "  <thead>\n",
       "    <tr style=\"text-align: right;\">\n",
       "      <th></th>\n",
       "      <th>imdb_id</th>\n",
       "      <th>title</th>\n",
       "    </tr>\n",
       "  </thead>\n",
       "  <tbody>\n",
       "    <tr>\n",
       "      <th>0</th>\n",
       "      <td>tt0114709</td>\n",
       "      <td>Toy Story</td>\n",
       "    </tr>\n",
       "    <tr>\n",
       "      <th>1</th>\n",
       "      <td>tt0113497</td>\n",
       "      <td>Jumanji</td>\n",
       "    </tr>\n",
       "    <tr>\n",
       "      <th>2</th>\n",
       "      <td>tt0113228</td>\n",
       "      <td>Grumpier Old Men</td>\n",
       "    </tr>\n",
       "    <tr>\n",
       "      <th>3</th>\n",
       "      <td>tt0114885</td>\n",
       "      <td>Waiting to Exhale</td>\n",
       "    </tr>\n",
       "    <tr>\n",
       "      <th>4</th>\n",
       "      <td>tt0113041</td>\n",
       "      <td>Father of the Bride Part II</td>\n",
       "    </tr>\n",
       "  </tbody>\n",
       "</table>\n",
       "</div>"
      ],
      "text/plain": [
       "     imdb_id                        title\n",
       "0  tt0114709                    Toy Story\n",
       "1  tt0113497                      Jumanji\n",
       "2  tt0113228             Grumpier Old Men\n",
       "3  tt0114885            Waiting to Exhale\n",
       "4  tt0113041  Father of the Bride Part II"
      ]
     },
     "execution_count": 28,
     "metadata": {},
     "output_type": "execute_result"
    }
   ],
   "source": [
    "#Inspecting the dataframe visually\n",
    "df[['imdb_id', 'title']].head()"
   ]
  },
  {
   "cell_type": "code",
   "execution_count": 29,
   "metadata": {},
   "outputs": [
    {
     "data": {
      "text/html": [
       "<div>\n",
       "<style scoped>\n",
       "    .dataframe tbody tr th:only-of-type {\n",
       "        vertical-align: middle;\n",
       "    }\n",
       "\n",
       "    .dataframe tbody tr th {\n",
       "        vertical-align: top;\n",
       "    }\n",
       "\n",
       "    .dataframe thead th {\n",
       "        text-align: right;\n",
       "    }\n",
       "</style>\n",
       "<table border=\"1\" class=\"dataframe\">\n",
       "  <thead>\n",
       "    <tr style=\"text-align: right;\">\n",
       "      <th></th>\n",
       "      <th>tconst</th>\n",
       "      <th>primaryTitle</th>\n",
       "    </tr>\n",
       "  </thead>\n",
       "  <tbody>\n",
       "    <tr>\n",
       "      <th>0</th>\n",
       "      <td>tt0000001</td>\n",
       "      <td>Carmencita</td>\n",
       "    </tr>\n",
       "    <tr>\n",
       "      <th>1</th>\n",
       "      <td>tt0000002</td>\n",
       "      <td>Le clown et ses chiens</td>\n",
       "    </tr>\n",
       "    <tr>\n",
       "      <th>2</th>\n",
       "      <td>tt0000003</td>\n",
       "      <td>Poor Pierrot</td>\n",
       "    </tr>\n",
       "    <tr>\n",
       "      <th>3</th>\n",
       "      <td>tt0000004</td>\n",
       "      <td>Un bon bock</td>\n",
       "    </tr>\n",
       "    <tr>\n",
       "      <th>4</th>\n",
       "      <td>tt0000005</td>\n",
       "      <td>Blacksmith Scene</td>\n",
       "    </tr>\n",
       "  </tbody>\n",
       "</table>\n",
       "</div>"
      ],
      "text/plain": [
       "      tconst            primaryTitle\n",
       "0  tt0000001              Carmencita\n",
       "1  tt0000002  Le clown et ses chiens\n",
       "2  tt0000003            Poor Pierrot\n",
       "3  tt0000004             Un bon bock\n",
       "4  tt0000005        Blacksmith Scene"
      ]
     },
     "execution_count": 29,
     "metadata": {},
     "output_type": "execute_result"
    }
   ],
   "source": [
    "#Inspecting the dataframe visually\n",
    "df_title_basics[['tconst', 'primaryTitle']].head()"
   ]
  },
  {
   "cell_type": "code",
   "execution_count": 30,
   "metadata": {
    "id": "BTuQw7Rbsio4"
   },
   "outputs": [
    {
     "data": {
      "text/plain": [
       "(45417, 11812577)"
      ]
     },
     "execution_count": 30,
     "metadata": {},
     "output_type": "execute_result"
    }
   ],
   "source": [
    "#Inspecting the dataframe programmatically\n",
    "df['imdb_id'].nunique(), df_title_basics['tconst'].nunique()"
   ]
  },
  {
   "cell_type": "markdown",
   "metadata": {},
   "source": [
    "**Issue and justification:** \n",
    "Information about the same movies is spread across two separate tables (df and df_title_basics). To perform right movie level analysis, we need to merge them using `imdb_id` from df and `tconst` from df_title_basics. This violates the rule of tidy data that says each type of observational unit forms a table. Merging the datasets will union the variables into a single table where each row represents one movie."
   ]
  },
  {
   "cell_type": "markdown",
   "metadata": {
    "id": "4ffMoRGSwzYj"
   },
   "source": [
    "### Tidiness Issue 2: Multiple Values in One Column (genres)"
   ]
  },
  {
   "cell_type": "code",
   "execution_count": 31,
   "metadata": {
    "id": "XUpeoqokw5Qt"
   },
   "outputs": [
    {
     "data": {
      "text/plain": [
       "0    [{'id': 16, 'name': 'Animation'}, {'id': 35, '...\n",
       "1    [{'id': 12, 'name': 'Adventure'}, {'id': 14, '...\n",
       "2    [{'id': 10749, 'name': 'Romance'}, {'id': 35, ...\n",
       "3    [{'id': 35, 'name': 'Comedy'}, {'id': 18, 'nam...\n",
       "4                       [{'id': 35, 'name': 'Comedy'}]\n",
       "Name: genres, dtype: object"
      ]
     },
     "execution_count": 31,
     "metadata": {},
     "output_type": "execute_result"
    }
   ],
   "source": [
    "#Inspecting the dataframe visually\n",
    "df['genres'].head()"
   ]
  },
  {
   "cell_type": "code",
   "execution_count": 32,
   "metadata": {},
   "outputs": [
    {
     "data": {
      "text/plain": [
       "0           Documentary,Short\n",
       "1             Animation,Short\n",
       "2    Animation,Comedy,Romance\n",
       "3             Animation,Short\n",
       "4                       Short\n",
       "Name: genres, dtype: object"
      ]
     },
     "execution_count": 32,
     "metadata": {},
     "output_type": "execute_result"
    }
   ],
   "source": [
    "#Inspecting the dataframe visually\n",
    "df_title_basics['genres'].head()"
   ]
  },
  {
   "cell_type": "code",
   "execution_count": 33,
   "metadata": {
    "id": "c8JK4DoXxtFA"
   },
   "outputs": [
    {
     "data": {
      "text/plain": [
       "\"[{'id': 16, 'name': 'Animation'}, {'id': 35, 'name': 'Comedy'}, {'id': 10751, 'name': 'Family'}]\""
      ]
     },
     "execution_count": 33,
     "metadata": {},
     "output_type": "execute_result"
    }
   ],
   "source": [
    "#Inspecting the dataframe programmatically\n",
    "df['genres'].iloc[0]"
   ]
  },
  {
   "cell_type": "code",
   "execution_count": 34,
   "metadata": {},
   "outputs": [
    {
     "data": {
      "text/plain": [
       "'Documentary,Short'"
      ]
     },
     "execution_count": 34,
     "metadata": {},
     "output_type": "execute_result"
    }
   ],
   "source": [
    "#Inspecting the dataframe programmatically\n",
    "df_title_basics['genres'].iloc[0]"
   ]
  },
  {
   "cell_type": "markdown",
   "metadata": {},
   "source": [
    "**Issue and justification:** \n",
    "In both datasets the `genres` column violates the tidy data principle that each variable should have its own column. In df, genres are stored as a list of dictionaries in a single string, while in df_title_basics, multiple genres are combined into one comma separated string. This makes it difficult to analyze or filter by individual genre types. To tidy this, the genres field should be transformed so that each genre occupies its own row or a normalized structure is used (exploding into multiple rows or using binary columns for each genre)."
   ]
  },
  {
   "cell_type": "markdown",
   "metadata": {},
   "source": [
    "---\n",
    "### Assessment Summary\n",
    "\n",
    "After a thorough inspection of both datasets (`df` from *The Movies Dataset* and `df_title_basics` from IMDb), the following key issues and observations were made regarding **data quality**, **tidiness**, and **structure**:\n",
    "\n",
    "---\n",
    "\n",
    "#### **Quality Issues**\n",
    "\n",
    "- **Missing Values**:\n",
    "  - `df_title_basics` contains major missing values:\n",
    "    - `endYear`: 11 million missing\n",
    "    - `runtimeMinutes`: 8 million missing\n",
    "    - `startYear`: 1.4 million missing\n",
    "    - `genres`: 500K missing\n",
    "  - `df` also has missing values in:\n",
    "    - `release_date`, `runtime`, `status`, and `imdb_id` (17 missing, critical for merging).\n",
    "    - `belongs_to_collection`, `homepage`, and `tagline` have significant nulls but may be less critical.\n",
    "\n",
    "- **Invalid or Inaccurate Values**:\n",
    "  - `revenue`, `budget`, and `vote_count` have a minimum value of `0`, which is often unrealistic and may indicate missing data recorded as zero.\n",
    "  - `runtimeMinutes` includes invalid string values ( `\"nan\"`), which are not valid for analysis.\n",
    "\n",
    "- **Incorrect Data Types**:\n",
    "  - In `df`, numeric-like fields are stored as objects:\n",
    "    - `budget`, `popularity`, `vote_count` → should be converted to `float` or `int`\n",
    "    - `release_date` → should be converted to `datetime`\n",
    "  - In `df_title_basics`, all columns are objects, including:\n",
    "    - `startYear`, `endYear`, `runtimeMinutes`, and `isAdult`, which should be numeric or boolean\n",
    "\n",
    "- **Duplicates**:\n",
    "  - `df` contains **13 duplicate rows**, which should be removed.\n",
    "  - `df_title_basics` has no duplicates.\n",
    "\n",
    "---\n",
    "\n",
    "#### **Tidiness Issues**\n",
    "\n",
    "- **Split Observations Across Tables**:\n",
    "  - The same movie’s information is split between `df` and `df_title_basics` (linked by `imdb_id`/`tconst`), requiring a merge. This violates the tidy data rule thet each type of observational unit forms a table*.\n",
    "\n",
    "- **Multiple Values in One Column**:\n",
    "  - The `genres` column in both datasets contains **multiple values in a single cell**:\n",
    "    - `df`: stringified JSON objects (for example `[{'id': 35, 'name': 'Comedy'}]`)\n",
    "    - `df_title_basics`: comma-separated strings (for example `'Drama,Romance'`)\n",
    "  - These should be unpacked into separate rows or normalized to allow proper filtering/grouping.\n",
    "\n",
    "---\n",
    "\n",
    "#### **Additional Notes**\n",
    "\n",
    "- **Cardinality Considerations**:\n",
    "  - High cardinality fields:\n",
    "    - `primaryTitle`, `originalTitle`, and `tconst` (millions of unique values)\n",
    "  - Low cardinality fields (candidates for categorical):\n",
    "    - `titleType`, `isAdult`, `status`, `video`, `adult`, `genres` (after we do cleaning)\n",
    "\n",
    "- **Data Cleaning Actions Planned**:\n",
    "  In the cleaning phase, the following conversions and fixes will be applied:\n",
    "  - `df`:\n",
    "    - `budget`, `popularity`, `vote_count` → convert to numeric\n",
    "    - `release_date` → convert to datetime\n",
    "    - `revenue` → treat `0` as missing\n",
    "  - `df_title_basics`:\n",
    "    - `startYear`, `endYear`, `runtimeMinutes` → convert to numeric\n",
    "    - `isAdult` → convert to boolean/integer\n",
    "\n",
    "---\n",
    "\n",
    "These issues will be addressed in the data cleaning phase to ensure right analysis."
   ]
  },
  {
   "cell_type": "markdown",
   "metadata": {
    "id": "D6gmLnBttpCh"
   },
   "source": [
    "## 3. Clean data"
   ]
  },
  {
   "cell_type": "code",
   "execution_count": 73,
   "metadata": {},
   "outputs": [],
   "source": [
    "# Make copies of the datasets to ensure the raw dataframes are not impacted\n",
    "df_clean = df.copy()\n",
    "df_title_clean = df_title_basics.copy()"
   ]
  },
  {
   "cell_type": "markdown",
   "metadata": {},
   "source": [
    "### **Quality Issue 1: Missing / Incomplete Values**\n",
    "\n",
    "As we can't drop rows blindly so instead, we'll:\n",
    "- drop rows where critical fields are missing (like imdb_id, release_date, or runtime)\n",
    "- Leave some high null fields as they are like homepage, tagline since they’re not essential for this analysis\n",
    "- we could impute or mark missing values in fields like runtimeMinutes for modeling later"
   ]
  },
  {
   "cell_type": "code",
   "execution_count": 74,
   "metadata": {},
   "outputs": [],
   "source": [
    "# the cleaning strategy\n",
    "# for df_clean\n",
    "# drop rows with missing (imdb_id is important for merging)\n",
    "df_clean = df_clean.dropna(subset=['imdb_id', 'release_date', 'runtime', 'status'])\n",
    "\n",
    "# drop less useful columns with too much missingness\n",
    "df_clean = df_clean.drop(columns=['homepage', 'tagline', 'belongs_to_collection'])"
   ]
  },
  {
   "cell_type": "code",
   "execution_count": 75,
   "metadata": {},
   "outputs": [
    {
     "data": {
      "text/plain": [
       "imdb_id         0\n",
       "release_date    0\n",
       "runtime         0\n",
       "status          0\n",
       "dtype: int64"
      ]
     },
     "execution_count": 75,
     "metadata": {},
     "output_type": "execute_result"
    }
   ],
   "source": [
    "# Validate the cleaning was successful\n",
    "# df_clean\n",
    "df_clean[['imdb_id', 'release_date', 'runtime', 'status']].isna().sum()"
   ]
  },
  {
   "cell_type": "code",
   "execution_count": 76,
   "metadata": {},
   "outputs": [],
   "source": [
    "# the cleaning strategy\n",
    "# for df_title_clean\n",
    "df_title_clean = df_title_clean.dropna(subset=['startYear'])\n",
    "\n",
    "## these under are imputing the nulls \n",
    "# we will do them later on after we fis the datatypes\n",
    "# # Fill endYear with startYear for entries likely to be movies (not series)\n",
    "# df_title_clean['endYear'] = df_title_clean['endYear'].fillna(df_title_clean['startYear'])\n",
    "\n",
    "# # since the runtimeMinutes nulls are nearly 8M dropping them will fix the analysis \n",
    "# # so we will impute with median\n",
    "# median_runtime = df_title_clean['runtimeMinutes'].median()\n",
    "# df_title_clean['runtimeMinutes'] = df_title_clean['runtimeMinutes'].fillna(median_runtime)\n",
    "\n",
    "# # for now we will fil the missing genres with 'Unknown'\n",
    "# df_title_clean['genres'] = df_title_clean['genres'].fillna('Unknown')"
   ]
  },
  {
   "cell_type": "code",
   "execution_count": 77,
   "metadata": {},
   "outputs": [
    {
     "data": {
      "text/plain": [
       "startYear                0\n",
       "endYear           10229089\n",
       "runtimeMinutes     6676313\n",
       "genres              436337\n",
       "dtype: int64"
      ]
     },
     "execution_count": 77,
     "metadata": {},
     "output_type": "execute_result"
    }
   ],
   "source": [
    "# Validate the cleaning was successful\n",
    "# df_title_clean\n",
    "df_title_clean[['startYear', 'endYear', 'runtimeMinutes', 'genres']].isna().sum()"
   ]
  },
  {
   "cell_type": "markdown",
   "metadata": {},
   "source": [
    "**Justification:**\n",
    "We addressed missing values based on the importance of each field to our analysis, in `df_clean`, we dropped rows with missing values in critical fields like `imdb_id`, `release_date`, `runtime`, and `status`, since these are essential for merging datasets and performing reliable analysis, but columns like `homepage`, `tagline`, and `belongs_to_collection` were dropped because of excessive missingness and limited analytical value.\n",
    "\n",
    "In `df_title_clean`, we removed rows missing the `startYear`, as this column is important for temporal analysis and modeling, but instead of dropping rows with missing `endYear`, `runtimeMinutes`, or `genres`, we plan to handle those later using appropriate imputation techniques (like median for `runtimeMinutes`, fallback logic for `endYear`, and category 'Unknown' for `genres`). This prevents data loss while maintaining dataset integrity for future modeling and exploration.\n",
    "\n",
    "---"
   ]
  },
  {
   "cell_type": "markdown",
   "metadata": {
    "id": "FmFhN52Yyn3l"
   },
   "source": [
    "### **Quality Issue 2: Incorrect data types in df**"
   ]
  },
  {
   "cell_type": "code",
   "execution_count": 78,
   "metadata": {
    "id": "9UejDWrNMW4a"
   },
   "outputs": [],
   "source": [
    "# the cleaning strategy\n",
    "# for df_clean\n",
    "# Convert release_date to datetime\n",
    "df_clean['release_date'] = pd.to_datetime(df_clean['release_date'], errors='coerce')\n",
    "\n",
    "# Convert budget, popularity, vote_count to numeric\n",
    "df_clean['budget'] = pd.to_numeric(df_clean['budget'], errors='coerce')\n",
    "df_clean['popularity'] = pd.to_numeric(df_clean['popularity'], errors='coerce')\n",
    "df_clean['vote_count'] = pd.to_numeric(df_clean['vote_count'], errors='coerce')"
   ]
  },
  {
   "cell_type": "code",
   "execution_count": 79,
   "metadata": {},
   "outputs": [
    {
     "data": {
      "text/plain": [
       "release_date    datetime64[ns]\n",
       "budget                   int64\n",
       "popularity             float64\n",
       "vote_count             float64\n",
       "dtype: object"
      ]
     },
     "execution_count": 79,
     "metadata": {},
     "output_type": "execute_result"
    }
   ],
   "source": [
    "# Validate the cleaning was successful\n",
    "# df_clean dtypes check\n",
    "df_clean[['release_date', 'budget', 'popularity', 'vote_count']].dtypes"
   ]
  },
  {
   "cell_type": "code",
   "execution_count": 80,
   "metadata": {},
   "outputs": [],
   "source": [
    "# the cleaning strategy\n",
    "# for df_title_clean\n",
    "# Convert startYear, endYear, runtimeMinutes to numeric\n",
    "df_title_clean['startYear'] = pd.to_numeric(df_title_clean['startYear'], errors='coerce')\n",
    "df_title_clean['endYear'] = pd.to_numeric(df_title_clean['endYear'], errors='coerce')\n",
    "df_title_clean['runtimeMinutes'] = pd.to_numeric(df_title_clean['runtimeMinutes'], errors='coerce')\n",
    "\n",
    "# Convert isAdult to boolean (0 or 1)\n",
    "df_title_clean['isAdult'] = df_title_clean['isAdult'].astype('bool')"
   ]
  },
  {
   "cell_type": "code",
   "execution_count": 81,
   "metadata": {
    "id": "oUBee-LPytkv"
   },
   "outputs": [
    {
     "data": {
      "text/plain": [
       "startYear           int64\n",
       "endYear           float64\n",
       "runtimeMinutes    float64\n",
       "isAdult              bool\n",
       "dtype: object"
      ]
     },
     "execution_count": 81,
     "metadata": {},
     "output_type": "execute_result"
    }
   ],
   "source": [
    "# Validate the cleaning was successful\n",
    "# df_title_clean dtypes check\n",
    "df_title_clean[['startYear', 'endYear', 'runtimeMinutes', 'isAdult']].dtypes"
   ]
  },
  {
   "cell_type": "markdown",
   "metadata": {},
   "source": [
    "**Justification:** \n",
    "correcting data types ensures numerical operations, date comparisons, and logical filtering work as expected. So storing them the right way as numeric fields (like budget, vote_count, and runtimeMinutes) as numbers allows us to calculate aggregates, apply models, and generate accurate statistics. Converting release_date to datetime allows time based analysis (for example trends over years), same as converting isAdult to boolean simplifies filtering and better reflects its binary nature."
   ]
  },
  {
   "cell_type": "markdown",
   "metadata": {
    "id": "n_DAUbJrymBL"
   },
   "source": [
    "### **Quality Issue 3: Missing values in `runtimeMinutes`, `endYear`, `genres`**"
   ]
  },
  {
   "cell_type": "code",
   "execution_count": 82,
   "metadata": {
    "id": "5Yfb-Yu5MTuE"
   },
   "outputs": [],
   "source": [
    "# apply the cleaning strategy\n",
    "# impute the nulls\n",
    "# Fill endYear with startYear for entries likely to be movies (not series)\n",
    "df_title_clean['endYear'] = df_title_clean['endYear'].fillna(df_title_clean['startYear'])\n",
    "\n",
    "# since the runtimeMinutes nulls are nearly 8M dropping them will fix the analysis \n",
    "# so we will impute with median\n",
    "median_runtime = df_title_clean['runtimeMinutes'].median()\n",
    "df_title_clean['runtimeMinutes'] = df_title_clean['runtimeMinutes'].fillna(median_runtime)\n",
    "\n",
    "# for now we will fil the missing genres with 'Unknown'\n",
    "df_title_clean['genres'] = df_title_clean['genres'].fillna('Unknown')"
   ]
  },
  {
   "cell_type": "code",
   "execution_count": 83,
   "metadata": {
    "id": "ionB2sRaMUmY"
   },
   "outputs": [
    {
     "data": {
      "text/plain": [
       "endYear           0\n",
       "runtimeMinutes    0\n",
       "genres            0\n",
       "dtype: int64"
      ]
     },
     "execution_count": 83,
     "metadata": {},
     "output_type": "execute_result"
    }
   ],
   "source": [
    "# Validate the cleaning was successful\n",
    "# df_title_clean\n",
    "df_title_clean[['endYear', 'runtimeMinutes', 'genres']].isna().sum()"
   ]
  },
  {
   "cell_type": "markdown",
   "metadata": {},
   "source": [
    "**Justification:**\n",
    "Imputing missing values in `endYear`, `runtimeMinutes`, and `genres` is necessary as we can't drop the nulls rows as they too much so we need to maintain data completeness and improve the quality of analysis. Filling endYear with startYear for likely movies ensures logical consistency where no separate end year exists, but we could be corrected from someone work in the field of movie production or trying to collect more data. Using the median to impute runtimeMinutes is appropriate because it reduces the impact of extreme values and preserves the central tendency of the data, especially given the large number of missing values that would otherwise result in significant data loss if dropped. Filling missing genres with 'Unknown' avoids losing records due to incomplete categorical data while maintaining a clear marker for unknown entries, enabling downstream modeling or analysis to handle these cases explicitly."
   ]
  },
  {
   "cell_type": "markdown",
   "metadata": {},
   "source": [
    "### Quality Issue 4: Invalid values - budget/revenue/vote_count are 0 but should be NaN"
   ]
  },
  {
   "cell_type": "markdown",
   "metadata": {},
   "source": [
    "0 for financial or popularity fields usually indicates missing or invalid data, not a real \"zero\"."
   ]
  },
  {
   "cell_type": "markdown",
   "metadata": {},
   "source": [
    "now i will create flags for tracking imputed/missing values so later i would now how to deal with them"
   ]
  },
  {
   "cell_type": "code",
   "execution_count": 84,
   "metadata": {},
   "outputs": [],
   "source": [
    "# apply the cleaning strategy\n",
    "# replace 0 with NaN for better analysis\n",
    "import numpy as np\n",
    "cols = ['budget', 'revenue', 'vote_count']\n",
    "df_clean[cols] = df_clean[cols].replace(0, np.nan)"
   ]
  },
  {
   "cell_type": "code",
   "execution_count": 85,
   "metadata": {},
   "outputs": [],
   "source": [
    "df_clean['missing_budget'] = df_clean['budget'].isna()\n",
    "df_clean['missing_revenue'] = df_clean['revenue'].isna()\n",
    "df_clean['missing_vote_count'] = df_clean['vote_count'].isna()"
   ]
  },
  {
   "cell_type": "code",
   "execution_count": 86,
   "metadata": {},
   "outputs": [
    {
     "data": {
      "text/plain": [
       "budget        36158\n",
       "revenue       37631\n",
       "vote_count     2730\n",
       "dtype: int64"
      ]
     },
     "execution_count": 86,
     "metadata": {},
     "output_type": "execute_result"
    }
   ],
   "source": [
    "# Validate the cleaning was successful\n",
    "df_clean[cols].isna().sum()"
   ]
  },
  {
   "cell_type": "markdown",
   "metadata": {},
   "source": [
    "**Justification:**\n",
    "Replacing zero values in `budget, revenue, and vote_count with NaN improves data quality by correctly identifying these zeros as missing or unreported information rather than valid entries. It is unrealistic for released movies to have zero revenue or votes, and zero budget is typically a placeholder for unknown or missing data. This cleaning step ensures that statistical analyses or modeling do not get biased by misleading zero values, allowing for better handling of missing data through imputation or exclusion, which ultimately leads to more accurate and reliable insights."
   ]
  },
  {
   "cell_type": "markdown",
   "metadata": {},
   "source": [
    "Now we will impute budget using median by genre"
   ]
  },
  {
   "cell_type": "code",
   "execution_count": 87,
   "metadata": {},
   "outputs": [],
   "source": [
    "# calc median budget per genre\n",
    "median_budget_by_genre = df_clean.groupby('genres')['budget'].median()\n",
    "\n",
    "# imputation function\n",
    "def impute_budget(row):\n",
    "    if pd.isna(row['budget']):\n",
    "        return median_budget_by_genre.get(row['genres'], df_clean['budget'].median())\n",
    "    return row['budget']\n",
    "\n",
    "# apply it\n",
    "df_clean['budget'] = df_clean.apply(impute_budget, axis=1)"
   ]
  },
  {
   "cell_type": "markdown",
   "metadata": {},
   "source": [
    "I do the imputation using median by genre, because i think genre can strongly influence budget for example Sci-Fi typically gets more funding than Documentary, so this is context aware imputation."
   ]
  },
  {
   "cell_type": "markdown",
   "metadata": {},
   "source": [
    "Now we will investigate the `vote_count`"
   ]
  },
  {
   "cell_type": "code",
   "execution_count": 88,
   "metadata": {
    "scrolled": false
   },
   "outputs": [
    {
     "data": {
      "text/html": [
       "<div>\n",
       "<style scoped>\n",
       "    .dataframe tbody tr th:only-of-type {\n",
       "        vertical-align: middle;\n",
       "    }\n",
       "\n",
       "    .dataframe tbody tr th {\n",
       "        vertical-align: top;\n",
       "    }\n",
       "\n",
       "    .dataframe thead th {\n",
       "        text-align: right;\n",
       "    }\n",
       "</style>\n",
       "<table border=\"1\" class=\"dataframe\">\n",
       "  <thead>\n",
       "    <tr style=\"text-align: right;\">\n",
       "      <th></th>\n",
       "      <th>adult</th>\n",
       "      <th>budget</th>\n",
       "      <th>genres</th>\n",
       "      <th>id</th>\n",
       "      <th>imdb_id</th>\n",
       "      <th>original_language</th>\n",
       "      <th>original_title</th>\n",
       "      <th>overview</th>\n",
       "      <th>popularity</th>\n",
       "      <th>poster_path</th>\n",
       "      <th>...</th>\n",
       "      <th>runtime</th>\n",
       "      <th>spoken_languages</th>\n",
       "      <th>status</th>\n",
       "      <th>title</th>\n",
       "      <th>video</th>\n",
       "      <th>vote_average</th>\n",
       "      <th>vote_count</th>\n",
       "      <th>missing_budget</th>\n",
       "      <th>missing_revenue</th>\n",
       "      <th>missing_vote_count</th>\n",
       "    </tr>\n",
       "  </thead>\n",
       "  <tbody>\n",
       "    <tr>\n",
       "      <th>26565</th>\n",
       "      <td>False</td>\n",
       "      <td>77500000.0</td>\n",
       "      <td>[{'id': 28, 'name': 'Action'}, {'id': 12, 'nam...</td>\n",
       "      <td>284053</td>\n",
       "      <td>tt3501632</td>\n",
       "      <td>en</td>\n",
       "      <td>Thor: Ragnarok</td>\n",
       "      <td>Thor is imprisoned on the other side of the un...</td>\n",
       "      <td>57.283628</td>\n",
       "      <td>/avy7IR8UMlIIyE2BPCI4plW4Csc.jpg</td>\n",
       "      <td>...</td>\n",
       "      <td>0.0</td>\n",
       "      <td>[{'iso_639_1': 'en', 'name': 'English'}]</td>\n",
       "      <td>Post Production</td>\n",
       "      <td>Thor: Ragnarok</td>\n",
       "      <td>False</td>\n",
       "      <td>0.0</td>\n",
       "      <td>NaN</td>\n",
       "      <td>True</td>\n",
       "      <td>True</td>\n",
       "      <td>True</td>\n",
       "    </tr>\n",
       "    <tr>\n",
       "      <th>26561</th>\n",
       "      <td>False</td>\n",
       "      <td>77500000.0</td>\n",
       "      <td>[{'id': 28, 'name': 'Action'}, {'id': 12, 'nam...</td>\n",
       "      <td>141052</td>\n",
       "      <td>tt0974015</td>\n",
       "      <td>en</td>\n",
       "      <td>Justice League</td>\n",
       "      <td>Fueled by his restored faith in humanity and i...</td>\n",
       "      <td>25.944629</td>\n",
       "      <td>/9rtrRGeRnL0JKtu9IMBWsmlmmZz.jpg</td>\n",
       "      <td>...</td>\n",
       "      <td>0.0</td>\n",
       "      <td>[{'iso_639_1': 'en', 'name': 'English'}]</td>\n",
       "      <td>Post Production</td>\n",
       "      <td>Justice League</td>\n",
       "      <td>False</td>\n",
       "      <td>0.0</td>\n",
       "      <td>NaN</td>\n",
       "      <td>True</td>\n",
       "      <td>True</td>\n",
       "      <td>True</td>\n",
       "    </tr>\n",
       "    <tr>\n",
       "      <th>24545</th>\n",
       "      <td>False</td>\n",
       "      <td>3500000.0</td>\n",
       "      <td>[{'id': 16, 'name': 'Animation'}, {'id': 28, '...</td>\n",
       "      <td>264646</td>\n",
       "      <td>tt2234550</td>\n",
       "      <td>en</td>\n",
       "      <td>LEGO Hero Factory: Savage Planet</td>\n",
       "      <td>The Hero Factory's mission: to build the brave...</td>\n",
       "      <td>3.120999</td>\n",
       "      <td>/x0dgTt0NuIfZmxEI2EbrbIkhFhY.jpg</td>\n",
       "      <td>...</td>\n",
       "      <td>45.0</td>\n",
       "      <td>[{'iso_639_1': 'cs', 'name': 'Český'}, {'iso_6...</td>\n",
       "      <td>Released</td>\n",
       "      <td>LEGO Hero Factory: Savage Planet</td>\n",
       "      <td>False</td>\n",
       "      <td>0.0</td>\n",
       "      <td>NaN</td>\n",
       "      <td>True</td>\n",
       "      <td>True</td>\n",
       "      <td>True</td>\n",
       "    </tr>\n",
       "    <tr>\n",
       "      <th>25494</th>\n",
       "      <td>False</td>\n",
       "      <td>825000.0</td>\n",
       "      <td>[]</td>\n",
       "      <td>255496</td>\n",
       "      <td>tt2317090</td>\n",
       "      <td>en</td>\n",
       "      <td>And Then There Was You</td>\n",
       "      <td>Natalie resorts to picking up the pieces of he...</td>\n",
       "      <td>2.686014</td>\n",
       "      <td>/pp3jIs6ZLCKf1DiEMhGy3arH6uh.jpg</td>\n",
       "      <td>...</td>\n",
       "      <td>99.0</td>\n",
       "      <td>[{'iso_639_1': 'en', 'name': 'English'}]</td>\n",
       "      <td>Released</td>\n",
       "      <td>And Then There Was You</td>\n",
       "      <td>False</td>\n",
       "      <td>0.0</td>\n",
       "      <td>NaN</td>\n",
       "      <td>True</td>\n",
       "      <td>True</td>\n",
       "      <td>True</td>\n",
       "    </tr>\n",
       "    <tr>\n",
       "      <th>45290</th>\n",
       "      <td>False</td>\n",
       "      <td>4350000.0</td>\n",
       "      <td>[{'id': 12, 'name': 'Adventure'}, {'id': 10751...</td>\n",
       "      <td>383618</td>\n",
       "      <td>tt4861720</td>\n",
       "      <td>sv</td>\n",
       "      <td>Siv sover vilse</td>\n",
       "      <td>Seven-year-old Siv’s first night sleeping over...</td>\n",
       "      <td>2.660047</td>\n",
       "      <td>/lBNZ5wXHkX8Lg08kdNuo1E2H4q6.jpg</td>\n",
       "      <td>...</td>\n",
       "      <td>79.0</td>\n",
       "      <td>[{'iso_639_1': 'sv', 'name': 'svenska'}]</td>\n",
       "      <td>Released</td>\n",
       "      <td>Siv Sleeps Astray</td>\n",
       "      <td>False</td>\n",
       "      <td>0.0</td>\n",
       "      <td>NaN</td>\n",
       "      <td>True</td>\n",
       "      <td>True</td>\n",
       "      <td>True</td>\n",
       "    </tr>\n",
       "  </tbody>\n",
       "</table>\n",
       "<p>5 rows × 24 columns</p>\n",
       "</div>"
      ],
      "text/plain": [
       "       adult      budget                                             genres  \\\n",
       "26565  False  77500000.0  [{'id': 28, 'name': 'Action'}, {'id': 12, 'nam...   \n",
       "26561  False  77500000.0  [{'id': 28, 'name': 'Action'}, {'id': 12, 'nam...   \n",
       "24545  False   3500000.0  [{'id': 16, 'name': 'Animation'}, {'id': 28, '...   \n",
       "25494  False    825000.0                                                 []   \n",
       "45290  False   4350000.0  [{'id': 12, 'name': 'Adventure'}, {'id': 10751...   \n",
       "\n",
       "           id    imdb_id original_language                    original_title  \\\n",
       "26565  284053  tt3501632                en                    Thor: Ragnarok   \n",
       "26561  141052  tt0974015                en                    Justice League   \n",
       "24545  264646  tt2234550                en  LEGO Hero Factory: Savage Planet   \n",
       "25494  255496  tt2317090                en            And Then There Was You   \n",
       "45290  383618  tt4861720                sv                   Siv sover vilse   \n",
       "\n",
       "                                                overview  popularity  \\\n",
       "26565  Thor is imprisoned on the other side of the un...   57.283628   \n",
       "26561  Fueled by his restored faith in humanity and i...   25.944629   \n",
       "24545  The Hero Factory's mission: to build the brave...    3.120999   \n",
       "25494  Natalie resorts to picking up the pieces of he...    2.686014   \n",
       "45290  Seven-year-old Siv’s first night sleeping over...    2.660047   \n",
       "\n",
       "                            poster_path  ... runtime  \\\n",
       "26565  /avy7IR8UMlIIyE2BPCI4plW4Csc.jpg  ...     0.0   \n",
       "26561  /9rtrRGeRnL0JKtu9IMBWsmlmmZz.jpg  ...     0.0   \n",
       "24545  /x0dgTt0NuIfZmxEI2EbrbIkhFhY.jpg  ...    45.0   \n",
       "25494  /pp3jIs6ZLCKf1DiEMhGy3arH6uh.jpg  ...    99.0   \n",
       "45290  /lBNZ5wXHkX8Lg08kdNuo1E2H4q6.jpg  ...    79.0   \n",
       "\n",
       "                                        spoken_languages           status  \\\n",
       "26565           [{'iso_639_1': 'en', 'name': 'English'}]  Post Production   \n",
       "26561           [{'iso_639_1': 'en', 'name': 'English'}]  Post Production   \n",
       "24545  [{'iso_639_1': 'cs', 'name': 'Český'}, {'iso_6...         Released   \n",
       "25494           [{'iso_639_1': 'en', 'name': 'English'}]         Released   \n",
       "45290           [{'iso_639_1': 'sv', 'name': 'svenska'}]         Released   \n",
       "\n",
       "                                  title  video vote_average vote_count  \\\n",
       "26565                    Thor: Ragnarok  False          0.0        NaN   \n",
       "26561                    Justice League  False          0.0        NaN   \n",
       "24545  LEGO Hero Factory: Savage Planet  False          0.0        NaN   \n",
       "25494            And Then There Was You  False          0.0        NaN   \n",
       "45290                 Siv Sleeps Astray  False          0.0        NaN   \n",
       "\n",
       "      missing_budget missing_revenue  missing_vote_count  \n",
       "26565           True            True                True  \n",
       "26561           True            True                True  \n",
       "24545           True            True                True  \n",
       "25494           True            True                True  \n",
       "45290           True            True                True  \n",
       "\n",
       "[5 rows x 24 columns]"
      ]
     },
     "execution_count": 88,
     "metadata": {},
     "output_type": "execute_result"
    }
   ],
   "source": [
    "df_clean[df_clean['vote_count'].isna()].sort_values('popularity', ascending=False).head()"
   ]
  },
  {
   "cell_type": "markdown",
   "metadata": {},
   "source": [
    "We saw that popular movies such as Thor: Ragnarok have missing (NaN) values for vote_count. This supports the assumption that vote_count = 0 was not a real value but instead represented missing data. Replacing it with NaN allows us to treat it appropriately during analysis."
   ]
  },
  {
   "cell_type": "markdown",
   "metadata": {},
   "source": [
    "Now for `revenue` imputing could lead to fabricated or misleading data. Better to leave missing and account for it during analysis."
   ]
  },
  {
   "cell_type": "markdown",
   "metadata": {},
   "source": [
    "The `has_financials` column is a binary indicator that tells us whether both budget and revenue are present. This is useful for analyses that require complete financial data, such as computing return on investment (ROI), profitability, or economic comparisons across films."
   ]
  },
  {
   "cell_type": "code",
   "execution_count": 89,
   "metadata": {},
   "outputs": [],
   "source": [
    "df_clean['has_financials'] = df_clean[['budget', 'revenue']].notna().all(axis=1)"
   ]
  },
  {
   "cell_type": "markdown",
   "metadata": {},
   "source": [
    "### Quality Issue 5: Duplicate rows in df"
   ]
  },
  {
   "cell_type": "code",
   "execution_count": 90,
   "metadata": {},
   "outputs": [],
   "source": [
    "# Remove duplicates\n",
    "df.drop_duplicates(inplace=True)"
   ]
  },
  {
   "cell_type": "code",
   "execution_count": 91,
   "metadata": {},
   "outputs": [
    {
     "data": {
      "text/plain": [
       "0"
      ]
     },
     "execution_count": 91,
     "metadata": {},
     "output_type": "execute_result"
    }
   ],
   "source": [
    "# Validate\n",
    "df.duplicated().sum()"
   ]
  },
  {
   "cell_type": "markdown",
   "metadata": {},
   "source": [
    "**Justification:** Duplicate rows skew analysis and increases counts, so they must be removed for accurate aggregation."
   ]
  },
  {
   "cell_type": "markdown",
   "metadata": {},
   "source": [
    "### Quality Issue 6: Columns like `poster_path`, `video`, `adult`, `status`, `original_title` are either irrelevant or redundant"
   ]
  },
  {
   "cell_type": "code",
   "execution_count": 92,
   "metadata": {},
   "outputs": [
    {
     "name": "stdout",
     "output_type": "stream",
     "text": [
      "poster_path value counts:\n",
      " poster_path\n",
      "/5D7UBSEgdyONE6Lql6xS7s6OLcW.jpg    5\n",
      "/2kslZXOaW0HmnGuVPCnQlCdXFR9.jpg    4\n",
      "/qW1oQlOHizRHXZQrpkimYr0oxzn.jpg    4\n",
      "/cdwVC18URfEdQjjxqJyRMoGDC0H.jpg    3\n",
      "/9UHJLVidq0yTNYUXQ9dN34deYis.jpg    2\n",
      "                                   ..\n",
      "/4wh1KB9vrrrOvjB0pPkIueZulU5.jpg    1\n",
      "/cnkOrknvytbeMa0iAoTa48lZz37.jpg    1\n",
      "/avopqhBKNHpJQhv8dg353IJbUNn.jpg    1\n",
      "/zjgHJZx5MewXrlZSSsH7fLrqb21.jpg    1\n",
      "/s5UkZt6NTsrS7ZF0Rh8nzupRlIU.jpg    1\n",
      "Name: count, Length: 44672, dtype: int64 \n",
      "\n",
      "video value counts:\n",
      " video\n",
      "False    44941\n",
      "True        88\n",
      "Name: count, dtype: int64 \n",
      "\n",
      "adult value counts:\n",
      " adult\n",
      "False    45021\n",
      "True         8\n",
      "Name: count, dtype: int64 \n",
      "\n",
      "status value counts:\n",
      " status\n",
      "Released           44674\n",
      "Rumored              227\n",
      "Post Production       97\n",
      "In Production         17\n",
      "Planned               13\n",
      "Canceled               1\n",
      "Name: count, dtype: int64 \n",
      "\n",
      "original_title value counts:\n",
      " original_title\n",
      "Alice in Wonderland                      8\n",
      "Hamlet                                   8\n",
      "Cinderella                               7\n",
      "Macbeth                                  7\n",
      "The Three Musketeers                     7\n",
      "                                        ..\n",
      "The Silver Chalice                       1\n",
      "George Washington Slept Here             1\n",
      "The Last Truck: Closing of a GM Plant    1\n",
      "Telstar: The Joe Meek Story              1\n",
      "Queerama                                 1\n",
      "Name: count, Length: 42971, dtype: int64 \n",
      "\n"
     ]
    }
   ],
   "source": [
    "# Check distribution of these columns\n",
    "for col in ['poster_path', 'video', 'adult', 'status', 'original_title']:\n",
    "    print(f\"{col} value counts:\\n\", df_clean[col].value_counts(), '\\n')"
   ]
  },
  {
   "cell_type": "markdown",
   "metadata": {},
   "source": [
    "---\n",
    "Convert `adult` into bool:"
   ]
  },
  {
   "cell_type": "code",
   "execution_count": 93,
   "metadata": {},
   "outputs": [
    {
     "name": "stdout",
     "output_type": "stream",
     "text": [
      "0\n",
      "Empty DataFrame\n",
      "Columns: [adult]\n",
      "Index: []\n"
     ]
    },
    {
     "data": {
      "text/plain": [
       "adult\n",
       "False    45021\n",
       "True         8\n",
       "Name: count, dtype: int64"
      ]
     },
     "execution_count": 93,
     "metadata": {},
     "output_type": "execute_result"
    }
   ],
   "source": [
    "# convert everything to lowercase strings and strip spaces\n",
    "df_clean['adult'] = df_clean['adult'].astype(str).str.strip().str.lower()\n",
    "\n",
    "# map to boolean\n",
    "df_clean['adult'] = df_clean['adult'].map({'true': True, 'false': False})\n",
    "\n",
    "# check for any unexpected values left\n",
    "print(df_clean['adult'].isna().sum())\n",
    "print(df_clean[df_clean['adult'].isna()][['adult']].head())\n",
    "\n",
    "# drop if any\n",
    "df_clean = df_clean.dropna(subset=['adult'])  \n",
    "\n",
    "# set dtype to bool\n",
    "df_clean['adult'] = df_clean['adult'].astype(bool)\n",
    "\n",
    "df_clean['adult'].value_counts()"
   ]
  },
  {
   "cell_type": "code",
   "execution_count": 94,
   "metadata": {},
   "outputs": [
    {
     "data": {
      "text/plain": [
       "dtype('bool')"
      ]
     },
     "execution_count": 94,
     "metadata": {},
     "output_type": "execute_result"
    }
   ],
   "source": [
    "df_clean['adult'].dtypes"
   ]
  },
  {
   "cell_type": "markdown",
   "metadata": {},
   "source": [
    "---\n",
    "Filter `status` to keep only Released movies as we want only them in this analysis"
   ]
  },
  {
   "cell_type": "code",
   "execution_count": 95,
   "metadata": {
    "scrolled": false
   },
   "outputs": [
    {
     "data": {
      "text/plain": [
       "status\n",
       "Released           44674\n",
       "Rumored              227\n",
       "Post Production       97\n",
       "In Production         17\n",
       "Planned               13\n",
       "Canceled               1\n",
       "Name: count, dtype: int64"
      ]
     },
     "execution_count": 95,
     "metadata": {},
     "output_type": "execute_result"
    }
   ],
   "source": [
    "df_clean['status'].value_counts()"
   ]
  },
  {
   "cell_type": "code",
   "execution_count": 96,
   "metadata": {},
   "outputs": [
    {
     "data": {
      "text/plain": [
       "status\n",
       "Released    44674\n",
       "Name: count, dtype: int64"
      ]
     },
     "execution_count": 96,
     "metadata": {},
     "output_type": "execute_result"
    }
   ],
   "source": [
    "df_clean = df_clean[df_clean['status'] == 'Released']\n",
    "df_clean['status'].value_counts()"
   ]
  },
  {
   "cell_type": "markdown",
   "metadata": {},
   "source": [
    "**Justification:**\n",
    "We keep only 'Released' movies to focus on movies that are actually out for viewers. Other statuses like 'Rumored', 'Post Production' may skew financial or popularity analyses."
   ]
  },
  {
   "cell_type": "markdown",
   "metadata": {},
   "source": [
    "---\n",
    "Now lets's inestigate the `title`:"
   ]
  },
  {
   "cell_type": "code",
   "execution_count": 97,
   "metadata": {},
   "outputs": [
    {
     "data": {
      "text/plain": [
       "title\n",
       "Cinderella                 11\n",
       "Alice in Wonderland         9\n",
       "Hamlet                      9\n",
       "Beauty and the Beast        8\n",
       "Les Misérables              8\n",
       "                           ..\n",
       "The Gazebo                  1\n",
       "9/11: The Twin Towers       1\n",
       "We Stand Alone Together     1\n",
       "Predators                   1\n",
       "Queerama                    1\n",
       "Name: count, Length: 41572, dtype: int64"
      ]
     },
     "execution_count": 97,
     "metadata": {},
     "output_type": "execute_result"
    }
   ],
   "source": [
    "df_clean['title'].value_counts()"
   ]
  },
  {
   "cell_type": "code",
   "execution_count": 98,
   "metadata": {},
   "outputs": [
    {
     "data": {
      "text/plain": [
       "original_title\n",
       "Hamlet                  8\n",
       "Alice in Wonderland     8\n",
       "Les Misérables          7\n",
       "A Christmas Carol       7\n",
       "The Three Musketeers    7\n",
       "                       ..\n",
       "Despicable Me           1\n",
       "So Proudly We Hail      1\n",
       "31 North 62 East        1\n",
       "Irene in Time           1\n",
       "Queerama                1\n",
       "Name: count, Length: 42640, dtype: int64"
      ]
     },
     "execution_count": 98,
     "metadata": {},
     "output_type": "execute_result"
    }
   ],
   "source": [
    "df_clean['original_title'].value_counts()"
   ]
  },
  {
   "cell_type": "markdown",
   "metadata": {},
   "source": [
    "- `title` has fewer unique values (41,882)\n",
    "- `original_title` has more unique values (42,971)\n",
    "This means many movies have the same title (due to remakes, translations, or similar names), while original_title is more specific.\n",
    "So i will keep them both for now"
   ]
  },
  {
   "cell_type": "markdown",
   "metadata": {},
   "source": [
    "---\n",
    "Drop `poster_path`:"
   ]
  },
  {
   "cell_type": "code",
   "execution_count": 99,
   "metadata": {
    "scrolled": true
   },
   "outputs": [],
   "source": [
    "df_clean = df_clean.drop(columns=['poster_path'])"
   ]
  },
  {
   "cell_type": "markdown",
   "metadata": {},
   "source": [
    "**Justification:** `poster_path` contains URLs to images, which are not directly useful for numerical or categorical analysis."
   ]
  },
  {
   "cell_type": "markdown",
   "metadata": {},
   "source": [
    "---\n",
    "Now lets investigate the `video` we have 44954 False, and 88 True   "
   ]
  },
  {
   "cell_type": "code",
   "execution_count": 100,
   "metadata": {},
   "outputs": [],
   "source": [
    "df_clean = df_clean.drop(columns=['video'])"
   ]
  },
  {
   "cell_type": "markdown",
   "metadata": {},
   "source": [
    "**Justification:** `video` mostly False means no associated video.\n",
    "It’s a low variance column and likely irrelevant for analysis.\n",
    "False means \"no video associated\" while True means \"video associated\"."
   ]
  },
  {
   "cell_type": "code",
   "execution_count": 101,
   "metadata": {},
   "outputs": [
    {
     "data": {
      "text/plain": [
       "Index(['adult', 'budget', 'genres', 'id', 'imdb_id', 'original_language',\n",
       "       'original_title', 'overview', 'popularity', 'production_companies',\n",
       "       'production_countries', 'release_date', 'revenue', 'runtime',\n",
       "       'spoken_languages', 'status', 'title', 'vote_average', 'vote_count',\n",
       "       'missing_budget', 'missing_revenue', 'missing_vote_count',\n",
       "       'has_financials'],\n",
       "      dtype='object')"
      ]
     },
     "execution_count": 101,
     "metadata": {},
     "output_type": "execute_result"
    }
   ],
   "source": [
    "# Validate\n",
    "df_clean.columns"
   ]
  },
  {
   "cell_type": "markdown",
   "metadata": {},
   "source": [
    "**Justification:** These fields are either for presentation (images/videos) or offer no analytical value."
   ]
  },
  {
   "cell_type": "markdown",
   "metadata": {
    "id": "bIUrrfSNyOPR"
   },
   "source": [
    "### **Tidiness Issue 1: Multiple Values in One Column**"
   ]
  },
  {
   "cell_type": "markdown",
   "metadata": {},
   "source": [
    "The columns `genres`, `spoken_languages`, `production_companies`, and `production_countries` each contained lists of dictionaries (e.g., [{\"id\": 18, \"name\": \"Drama\"}, {\"id\": 10749, \"name\": \"Romance\"}]) stored as strings. Each cell contained multiple values, which violates the tidy data principle: each variable should form a single column, and each value should have its own cell."
   ]
  },
  {
   "cell_type": "code",
   "execution_count": 102,
   "metadata": {
    "id": "fib0zAm333bn"
   },
   "outputs": [
    {
     "data": {
      "text/plain": [
       "genres\n",
       "[{'id': 18, 'name': 'Drama'}]                                                                                                             4908\n",
       "[{'id': 35, 'name': 'Comedy'}]                                                                                                            3525\n",
       "[{'id': 99, 'name': 'Documentary'}]                                                                                                       2658\n",
       "[]                                                                                                                                        2259\n",
       "[{'id': 18, 'name': 'Drama'}, {'id': 10749, 'name': 'Romance'}]                                                                           1289\n",
       "                                                                                                                                          ... \n",
       "[{'id': 80, 'name': 'Crime'}, {'id': 10769, 'name': 'Foreign'}, {'id': 53, 'name': 'Thriller'}]                                              1\n",
       "[{'id': 12, 'name': 'Adventure'}, {'id': 80, 'name': 'Crime'}, {'id': 18, 'name': 'Drama'}, {'id': 37, 'name': 'Western'}]                   1\n",
       "[{'id': 16, 'name': 'Animation'}, {'id': 18, 'name': 'Drama'}, {'id': 878, 'name': 'Science Fiction'}, {'id': 53, 'name': 'Thriller'}]       1\n",
       "[{'id': 35, 'name': 'Comedy'}, {'id': 10749, 'name': 'Romance'}, {'id': 16, 'name': 'Animation'}, {'id': 10402, 'name': 'Music'}]            1\n",
       "[{'id': 10751, 'name': 'Family'}, {'id': 16, 'name': 'Animation'}, {'id': 10749, 'name': 'Romance'}, {'id': 35, 'name': 'Comedy'}]           1\n",
       "Name: count, Length: 4039, dtype: int64"
      ]
     },
     "execution_count": 102,
     "metadata": {},
     "output_type": "execute_result"
    }
   ],
   "source": [
    "df_clean['genres'].value_counts()"
   ]
  },
  {
   "cell_type": "code",
   "execution_count": 103,
   "metadata": {
    "id": "yhrnUGY_Nk8B"
   },
   "outputs": [
    {
     "data": {
      "text/plain": [
       "spoken_languages\n",
       "[{'iso_639_1': 'en', 'name': 'English'}]                                                                                                                                                              22184\n",
       "[]                                                                                                                                                                                                     3592\n",
       "[{'iso_639_1': 'fr', 'name': 'Français'}]                                                                                                                                                              1816\n",
       "[{'iso_639_1': 'ja', 'name': '日本語'}]                                                                                                                                                                   1279\n",
       "[{'iso_639_1': 'it', 'name': 'Italiano'}]                                                                                                                                                              1178\n",
       "                                                                                                                                                                                                      ...  \n",
       "[{'iso_639_1': 'ar', 'name': 'العربية'}, {'iso_639_1': 'en', 'name': 'English'}, {'iso_639_1': 'sv', 'name': 'svenska'}]                                                                                  1\n",
       "[{'iso_639_1': 'zh', 'name': '普通话'}, {'iso_639_1': 'en', 'name': 'English'}, {'iso_639_1': 'ja', 'name': '日本語'}]                                                                                          1\n",
       "[{'iso_639_1': 'en', 'name': 'English'}, {'iso_639_1': 'ja', 'name': '日本語'}, {'iso_639_1': 'ar', 'name': 'العربية'}, {'iso_639_1': 'zh', 'name': '普通话'}]                                                  1\n",
       "[{'iso_639_1': 'fr', 'name': 'Français'}, {'iso_639_1': 'la', 'name': 'Latin'}, {'iso_639_1': 'mn', 'name': ''}, {'iso_639_1': 'pt', 'name': 'Português'}, {'iso_639_1': 'en', 'name': 'English'}]        1\n",
       "[{'iso_639_1': 'ff', 'name': 'Fulfulde'}, {'iso_639_1': 'en', 'name': 'English'}]                                                                                                                         1\n",
       "Name: count, Length: 1915, dtype: int64"
      ]
     },
     "execution_count": 103,
     "metadata": {},
     "output_type": "execute_result"
    }
   ],
   "source": [
    "df_clean['spoken_languages'].value_counts()"
   ]
  },
  {
   "cell_type": "markdown",
   "metadata": {},
   "source": [
    "---\n",
    "Extract name from `genre`:"
   ]
  },
  {
   "cell_type": "code",
   "execution_count": 104,
   "metadata": {},
   "outputs": [
    {
     "data": {
      "text/plain": [
       "Index(['adult', 'budget', 'id', 'imdb_id', 'original_language',\n",
       "       'original_title', 'overview', 'popularity', 'production_companies',\n",
       "       'production_countries', 'release_date', 'revenue', 'runtime',\n",
       "       'spoken_languages', 'status', 'title', 'vote_average', 'vote_count',\n",
       "       'missing_budget', 'missing_revenue', 'missing_vote_count',\n",
       "       'has_financials', 'genre_names'],\n",
       "      dtype='object')"
      ]
     },
     "execution_count": 104,
     "metadata": {},
     "output_type": "execute_result"
    }
   ],
   "source": [
    "import ast\n",
    "\n",
    "# convert string to Python object (list of dicts)\n",
    "df_clean['genres_list'] = df_clean['genres'].apply(lambda x: ast.literal_eval(x) if pd.notnull(x) and x != '[]' else [])\n",
    "\n",
    "# extract only the genre names\n",
    "df_clean['genre_names'] = df_clean['genres_list'].apply(lambda x: [i['name'] for i in x])\n",
    "\n",
    "# explode the list into rows\n",
    "df_clean = df_clean.explode('genre_names').reset_index(drop=True)\n",
    "\n",
    "# drop old columns\n",
    "df_clean.drop(columns=['genres', 'genres_list'], inplace=True)\n",
    "\n",
    "df_clean.columns"
   ]
  },
  {
   "cell_type": "code",
   "execution_count": 105,
   "metadata": {},
   "outputs": [],
   "source": [
    "# safely parse \n",
    "def safe_literal_eval(val):\n",
    "    try:\n",
    "        return ast.literal_eval(val) if pd.notnull(val) else []\n",
    "    except (ValueError, SyntaxError):\n",
    "        return []\n",
    "\n",
    "# spoken_languages\n",
    "# parse the string to list of dicts\n",
    "df_clean['spoken_languages_parsed'] = df_clean['spoken_languages'].apply(safe_literal_eval)\n",
    "\n",
    "# extract language names\n",
    "df_clean['language_names'] = df_clean['spoken_languages_parsed'].apply(lambda x: [d['name'] for d in x if 'name' in d])\n",
    "\n",
    "# explode the language names into rows\n",
    "df_clean = df_clean.explode('language_names').reset_index(drop=True)\n",
    "\n",
    "# drop old columns\n",
    "df_clean.drop(columns=['spoken_languages', 'spoken_languages_parsed'], inplace=True)\n",
    "\n",
    "#####\n",
    "# production_companies\n",
    "# parse JSON string to list of dicts\n",
    "df_clean['production_companies_parsed'] = df_clean['production_companies'].apply(safe_literal_eval)\n",
    "\n",
    "# extract company names\n",
    "df_clean['company_names'] = df_clean['production_companies_parsed'].apply(lambda x: [d['name'] for d in x if 'name' in d])\n",
    "\n",
    "# explode to have one company per row\n",
    "df_clean = df_clean.explode('company_names').reset_index(drop=True)\n",
    "\n",
    "# drop original columns\n",
    "df_clean.drop(columns=['production_companies', 'production_companies_parsed'], inplace=True)\n",
    "\n",
    "#####\n",
    "# production_countries\n",
    "# parse JSON string to list of dicts\n",
    "df_clean['production_countries_parsed'] = df_clean['production_countries'].apply(safe_literal_eval)\n",
    "\n",
    "# extract country names\n",
    "df_clean['country_names'] = df_clean['production_countries_parsed'].apply(lambda x: [d['name'] for d in x if 'name' in d])\n",
    "\n",
    "# explode to have one country per row\n",
    "df_clean = df_clean.explode('country_names').reset_index(drop=True)\n",
    "\n",
    "# drop original columns\n",
    "df_clean.drop(columns=['production_countries', 'production_countries_parsed'], inplace=True)"
   ]
  },
  {
   "cell_type": "code",
   "execution_count": 106,
   "metadata": {},
   "outputs": [
    {
     "data": {
      "text/plain": [
       "Index(['adult', 'budget', 'id', 'imdb_id', 'original_language',\n",
       "       'original_title', 'overview', 'popularity', 'release_date', 'revenue',\n",
       "       'runtime', 'status', 'title', 'vote_average', 'vote_count',\n",
       "       'missing_budget', 'missing_revenue', 'missing_vote_count',\n",
       "       'has_financials', 'genre_names', 'language_names', 'company_names',\n",
       "       'country_names'],\n",
       "      dtype='object')"
      ]
     },
     "execution_count": 106,
     "metadata": {},
     "output_type": "execute_result"
    }
   ],
   "source": [
    "df_clean.columns"
   ]
  },
  {
   "cell_type": "code",
   "execution_count": 107,
   "metadata": {},
   "outputs": [
    {
     "data": {
      "text/html": [
       "<div>\n",
       "<style scoped>\n",
       "    .dataframe tbody tr th:only-of-type {\n",
       "        vertical-align: middle;\n",
       "    }\n",
       "\n",
       "    .dataframe tbody tr th {\n",
       "        vertical-align: top;\n",
       "    }\n",
       "\n",
       "    .dataframe thead th {\n",
       "        text-align: right;\n",
       "    }\n",
       "</style>\n",
       "<table border=\"1\" class=\"dataframe\">\n",
       "  <thead>\n",
       "    <tr style=\"text-align: right;\">\n",
       "      <th></th>\n",
       "      <th>adult</th>\n",
       "      <th>budget</th>\n",
       "      <th>id</th>\n",
       "      <th>imdb_id</th>\n",
       "      <th>original_language</th>\n",
       "      <th>original_title</th>\n",
       "      <th>overview</th>\n",
       "      <th>popularity</th>\n",
       "      <th>release_date</th>\n",
       "      <th>revenue</th>\n",
       "      <th>...</th>\n",
       "      <th>vote_average</th>\n",
       "      <th>vote_count</th>\n",
       "      <th>missing_budget</th>\n",
       "      <th>missing_revenue</th>\n",
       "      <th>missing_vote_count</th>\n",
       "      <th>has_financials</th>\n",
       "      <th>genre_names</th>\n",
       "      <th>language_names</th>\n",
       "      <th>company_names</th>\n",
       "      <th>country_names</th>\n",
       "    </tr>\n",
       "  </thead>\n",
       "  <tbody>\n",
       "    <tr>\n",
       "      <th>0</th>\n",
       "      <td>False</td>\n",
       "      <td>30000000.0</td>\n",
       "      <td>862</td>\n",
       "      <td>tt0114709</td>\n",
       "      <td>en</td>\n",
       "      <td>Toy Story</td>\n",
       "      <td>Led by Woody, Andy's toys live happily in his ...</td>\n",
       "      <td>21.946943</td>\n",
       "      <td>1995-10-30</td>\n",
       "      <td>373554033.0</td>\n",
       "      <td>...</td>\n",
       "      <td>7.7</td>\n",
       "      <td>5415.0</td>\n",
       "      <td>False</td>\n",
       "      <td>False</td>\n",
       "      <td>False</td>\n",
       "      <td>True</td>\n",
       "      <td>Animation</td>\n",
       "      <td>English</td>\n",
       "      <td>Pixar Animation Studios</td>\n",
       "      <td>United States of America</td>\n",
       "    </tr>\n",
       "    <tr>\n",
       "      <th>1</th>\n",
       "      <td>False</td>\n",
       "      <td>30000000.0</td>\n",
       "      <td>862</td>\n",
       "      <td>tt0114709</td>\n",
       "      <td>en</td>\n",
       "      <td>Toy Story</td>\n",
       "      <td>Led by Woody, Andy's toys live happily in his ...</td>\n",
       "      <td>21.946943</td>\n",
       "      <td>1995-10-30</td>\n",
       "      <td>373554033.0</td>\n",
       "      <td>...</td>\n",
       "      <td>7.7</td>\n",
       "      <td>5415.0</td>\n",
       "      <td>False</td>\n",
       "      <td>False</td>\n",
       "      <td>False</td>\n",
       "      <td>True</td>\n",
       "      <td>Comedy</td>\n",
       "      <td>English</td>\n",
       "      <td>Pixar Animation Studios</td>\n",
       "      <td>United States of America</td>\n",
       "    </tr>\n",
       "    <tr>\n",
       "      <th>2</th>\n",
       "      <td>False</td>\n",
       "      <td>30000000.0</td>\n",
       "      <td>862</td>\n",
       "      <td>tt0114709</td>\n",
       "      <td>en</td>\n",
       "      <td>Toy Story</td>\n",
       "      <td>Led by Woody, Andy's toys live happily in his ...</td>\n",
       "      <td>21.946943</td>\n",
       "      <td>1995-10-30</td>\n",
       "      <td>373554033.0</td>\n",
       "      <td>...</td>\n",
       "      <td>7.7</td>\n",
       "      <td>5415.0</td>\n",
       "      <td>False</td>\n",
       "      <td>False</td>\n",
       "      <td>False</td>\n",
       "      <td>True</td>\n",
       "      <td>Family</td>\n",
       "      <td>English</td>\n",
       "      <td>Pixar Animation Studios</td>\n",
       "      <td>United States of America</td>\n",
       "    </tr>\n",
       "    <tr>\n",
       "      <th>3</th>\n",
       "      <td>False</td>\n",
       "      <td>65000000.0</td>\n",
       "      <td>8844</td>\n",
       "      <td>tt0113497</td>\n",
       "      <td>en</td>\n",
       "      <td>Jumanji</td>\n",
       "      <td>When siblings Judy and Peter discover an encha...</td>\n",
       "      <td>17.015539</td>\n",
       "      <td>1995-12-15</td>\n",
       "      <td>262797249.0</td>\n",
       "      <td>...</td>\n",
       "      <td>6.9</td>\n",
       "      <td>2413.0</td>\n",
       "      <td>False</td>\n",
       "      <td>False</td>\n",
       "      <td>False</td>\n",
       "      <td>True</td>\n",
       "      <td>Adventure</td>\n",
       "      <td>English</td>\n",
       "      <td>TriStar Pictures</td>\n",
       "      <td>United States of America</td>\n",
       "    </tr>\n",
       "    <tr>\n",
       "      <th>4</th>\n",
       "      <td>False</td>\n",
       "      <td>65000000.0</td>\n",
       "      <td>8844</td>\n",
       "      <td>tt0113497</td>\n",
       "      <td>en</td>\n",
       "      <td>Jumanji</td>\n",
       "      <td>When siblings Judy and Peter discover an encha...</td>\n",
       "      <td>17.015539</td>\n",
       "      <td>1995-12-15</td>\n",
       "      <td>262797249.0</td>\n",
       "      <td>...</td>\n",
       "      <td>6.9</td>\n",
       "      <td>2413.0</td>\n",
       "      <td>False</td>\n",
       "      <td>False</td>\n",
       "      <td>False</td>\n",
       "      <td>True</td>\n",
       "      <td>Adventure</td>\n",
       "      <td>English</td>\n",
       "      <td>Teitler Film</td>\n",
       "      <td>United States of America</td>\n",
       "    </tr>\n",
       "  </tbody>\n",
       "</table>\n",
       "<p>5 rows × 23 columns</p>\n",
       "</div>"
      ],
      "text/plain": [
       "   adult      budget    id    imdb_id original_language original_title  \\\n",
       "0  False  30000000.0   862  tt0114709                en      Toy Story   \n",
       "1  False  30000000.0   862  tt0114709                en      Toy Story   \n",
       "2  False  30000000.0   862  tt0114709                en      Toy Story   \n",
       "3  False  65000000.0  8844  tt0113497                en        Jumanji   \n",
       "4  False  65000000.0  8844  tt0113497                en        Jumanji   \n",
       "\n",
       "                                            overview  popularity release_date  \\\n",
       "0  Led by Woody, Andy's toys live happily in his ...   21.946943   1995-10-30   \n",
       "1  Led by Woody, Andy's toys live happily in his ...   21.946943   1995-10-30   \n",
       "2  Led by Woody, Andy's toys live happily in his ...   21.946943   1995-10-30   \n",
       "3  When siblings Judy and Peter discover an encha...   17.015539   1995-12-15   \n",
       "4  When siblings Judy and Peter discover an encha...   17.015539   1995-12-15   \n",
       "\n",
       "       revenue  ...  vote_average vote_count missing_budget  missing_revenue  \\\n",
       "0  373554033.0  ...           7.7     5415.0          False            False   \n",
       "1  373554033.0  ...           7.7     5415.0          False            False   \n",
       "2  373554033.0  ...           7.7     5415.0          False            False   \n",
       "3  262797249.0  ...           6.9     2413.0          False            False   \n",
       "4  262797249.0  ...           6.9     2413.0          False            False   \n",
       "\n",
       "   missing_vote_count  has_financials  genre_names  language_names  \\\n",
       "0               False            True    Animation         English   \n",
       "1               False            True       Comedy         English   \n",
       "2               False            True       Family         English   \n",
       "3               False            True    Adventure         English   \n",
       "4               False            True    Adventure         English   \n",
       "\n",
       "             company_names             country_names  \n",
       "0  Pixar Animation Studios  United States of America  \n",
       "1  Pixar Animation Studios  United States of America  \n",
       "2  Pixar Animation Studios  United States of America  \n",
       "3         TriStar Pictures  United States of America  \n",
       "4             Teitler Film  United States of America  \n",
       "\n",
       "[5 rows x 23 columns]"
      ]
     },
     "execution_count": 107,
     "metadata": {},
     "output_type": "execute_result"
    }
   ],
   "source": [
    "df_clean.head()"
   ]
  },
  {
   "cell_type": "markdown",
   "metadata": {},
   "source": [
    "**Justification:** This transformation ensures each value is represented in its own cell, and each variable (genre, language, company, country) is cleanly separated into its own row. This structure allows for accurate aggregation, filtering, and visualization, and is essential for proper statistical analysis and machine learning workflows."
   ]
  },
  {
   "cell_type": "markdown",
   "metadata": {
    "id": "o51Bt8kwyTzk"
   },
   "source": [
    "### **Tidiness Issue 2: One Observation Spread Across Two Tables**"
   ]
  },
  {
   "cell_type": "code",
   "execution_count": 108,
   "metadata": {
    "id": "7zW8O5yx4Y9O"
   },
   "outputs": [],
   "source": [
    "#Apply the cleaning strategy\n",
    "df_merged = df_clean.merge(df_title_clean, left_on='imdb_id', right_on='tconst', how='inner')"
   ]
  },
  {
   "cell_type": "code",
   "execution_count": 109,
   "metadata": {
    "id": "q6I_Sr7lxXi5"
   },
   "outputs": [
    {
     "name": "stdout",
     "output_type": "stream",
     "text": [
      "df_clean shape: (416393, 23)\n",
      "df_title_clean shape: (10373797, 9)\n",
      "merged_df shape: (416262, 32)\n"
     ]
    }
   ],
   "source": [
    "# Validate the cleaning was successful\n",
    "print(f\"df_clean shape: {df_clean.shape}\")\n",
    "print(f\"df_title_clean shape: {df_title_clean.shape}\")\n",
    "print(f\"merged_df shape: {df_merged.shape}\")"
   ]
  },
  {
   "cell_type": "code",
   "execution_count": 110,
   "metadata": {
    "scrolled": true
   },
   "outputs": [
    {
     "data": {
      "text/html": [
       "<div>\n",
       "<style scoped>\n",
       "    .dataframe tbody tr th:only-of-type {\n",
       "        vertical-align: middle;\n",
       "    }\n",
       "\n",
       "    .dataframe tbody tr th {\n",
       "        vertical-align: top;\n",
       "    }\n",
       "\n",
       "    .dataframe thead th {\n",
       "        text-align: right;\n",
       "    }\n",
       "</style>\n",
       "<table border=\"1\" class=\"dataframe\">\n",
       "  <thead>\n",
       "    <tr style=\"text-align: right;\">\n",
       "      <th></th>\n",
       "      <th>adult</th>\n",
       "      <th>budget</th>\n",
       "      <th>id</th>\n",
       "      <th>imdb_id</th>\n",
       "      <th>original_language</th>\n",
       "      <th>original_title</th>\n",
       "      <th>overview</th>\n",
       "      <th>popularity</th>\n",
       "      <th>release_date</th>\n",
       "      <th>revenue</th>\n",
       "      <th>runtime</th>\n",
       "      <th>status</th>\n",
       "      <th>title</th>\n",
       "      <th>vote_average</th>\n",
       "      <th>vote_count</th>\n",
       "      <th>missing_budget</th>\n",
       "      <th>missing_revenue</th>\n",
       "      <th>missing_vote_count</th>\n",
       "      <th>has_financials</th>\n",
       "      <th>genre_names</th>\n",
       "      <th>language_names</th>\n",
       "      <th>company_names</th>\n",
       "      <th>country_names</th>\n",
       "      <th>tconst</th>\n",
       "      <th>titleType</th>\n",
       "      <th>primaryTitle</th>\n",
       "      <th>originalTitle</th>\n",
       "      <th>isAdult</th>\n",
       "      <th>startYear</th>\n",
       "      <th>endYear</th>\n",
       "      <th>runtimeMinutes</th>\n",
       "      <th>genres</th>\n",
       "    </tr>\n",
       "  </thead>\n",
       "  <tbody>\n",
       "    <tr>\n",
       "      <th>0</th>\n",
       "      <td>False</td>\n",
       "      <td>30000000.0</td>\n",
       "      <td>862</td>\n",
       "      <td>tt0114709</td>\n",
       "      <td>en</td>\n",
       "      <td>Toy Story</td>\n",
       "      <td>Led by Woody, Andy's toys live happily in his ...</td>\n",
       "      <td>21.946943</td>\n",
       "      <td>1995-10-30</td>\n",
       "      <td>373554033.0</td>\n",
       "      <td>81.0</td>\n",
       "      <td>Released</td>\n",
       "      <td>Toy Story</td>\n",
       "      <td>7.7</td>\n",
       "      <td>5415.0</td>\n",
       "      <td>False</td>\n",
       "      <td>False</td>\n",
       "      <td>False</td>\n",
       "      <td>True</td>\n",
       "      <td>Animation</td>\n",
       "      <td>English</td>\n",
       "      <td>Pixar Animation Studios</td>\n",
       "      <td>United States of America</td>\n",
       "      <td>tt0114709</td>\n",
       "      <td>movie</td>\n",
       "      <td>Toy Story</td>\n",
       "      <td>Toy Story</td>\n",
       "      <td>True</td>\n",
       "      <td>1995</td>\n",
       "      <td>1995.0</td>\n",
       "      <td>81.0</td>\n",
       "      <td>Adventure,Animation,Comedy</td>\n",
       "    </tr>\n",
       "    <tr>\n",
       "      <th>1</th>\n",
       "      <td>False</td>\n",
       "      <td>30000000.0</td>\n",
       "      <td>862</td>\n",
       "      <td>tt0114709</td>\n",
       "      <td>en</td>\n",
       "      <td>Toy Story</td>\n",
       "      <td>Led by Woody, Andy's toys live happily in his ...</td>\n",
       "      <td>21.946943</td>\n",
       "      <td>1995-10-30</td>\n",
       "      <td>373554033.0</td>\n",
       "      <td>81.0</td>\n",
       "      <td>Released</td>\n",
       "      <td>Toy Story</td>\n",
       "      <td>7.7</td>\n",
       "      <td>5415.0</td>\n",
       "      <td>False</td>\n",
       "      <td>False</td>\n",
       "      <td>False</td>\n",
       "      <td>True</td>\n",
       "      <td>Comedy</td>\n",
       "      <td>English</td>\n",
       "      <td>Pixar Animation Studios</td>\n",
       "      <td>United States of America</td>\n",
       "      <td>tt0114709</td>\n",
       "      <td>movie</td>\n",
       "      <td>Toy Story</td>\n",
       "      <td>Toy Story</td>\n",
       "      <td>True</td>\n",
       "      <td>1995</td>\n",
       "      <td>1995.0</td>\n",
       "      <td>81.0</td>\n",
       "      <td>Adventure,Animation,Comedy</td>\n",
       "    </tr>\n",
       "    <tr>\n",
       "      <th>2</th>\n",
       "      <td>False</td>\n",
       "      <td>30000000.0</td>\n",
       "      <td>862</td>\n",
       "      <td>tt0114709</td>\n",
       "      <td>en</td>\n",
       "      <td>Toy Story</td>\n",
       "      <td>Led by Woody, Andy's toys live happily in his ...</td>\n",
       "      <td>21.946943</td>\n",
       "      <td>1995-10-30</td>\n",
       "      <td>373554033.0</td>\n",
       "      <td>81.0</td>\n",
       "      <td>Released</td>\n",
       "      <td>Toy Story</td>\n",
       "      <td>7.7</td>\n",
       "      <td>5415.0</td>\n",
       "      <td>False</td>\n",
       "      <td>False</td>\n",
       "      <td>False</td>\n",
       "      <td>True</td>\n",
       "      <td>Family</td>\n",
       "      <td>English</td>\n",
       "      <td>Pixar Animation Studios</td>\n",
       "      <td>United States of America</td>\n",
       "      <td>tt0114709</td>\n",
       "      <td>movie</td>\n",
       "      <td>Toy Story</td>\n",
       "      <td>Toy Story</td>\n",
       "      <td>True</td>\n",
       "      <td>1995</td>\n",
       "      <td>1995.0</td>\n",
       "      <td>81.0</td>\n",
       "      <td>Adventure,Animation,Comedy</td>\n",
       "    </tr>\n",
       "    <tr>\n",
       "      <th>3</th>\n",
       "      <td>False</td>\n",
       "      <td>65000000.0</td>\n",
       "      <td>8844</td>\n",
       "      <td>tt0113497</td>\n",
       "      <td>en</td>\n",
       "      <td>Jumanji</td>\n",
       "      <td>When siblings Judy and Peter discover an encha...</td>\n",
       "      <td>17.015539</td>\n",
       "      <td>1995-12-15</td>\n",
       "      <td>262797249.0</td>\n",
       "      <td>104.0</td>\n",
       "      <td>Released</td>\n",
       "      <td>Jumanji</td>\n",
       "      <td>6.9</td>\n",
       "      <td>2413.0</td>\n",
       "      <td>False</td>\n",
       "      <td>False</td>\n",
       "      <td>False</td>\n",
       "      <td>True</td>\n",
       "      <td>Adventure</td>\n",
       "      <td>English</td>\n",
       "      <td>TriStar Pictures</td>\n",
       "      <td>United States of America</td>\n",
       "      <td>tt0113497</td>\n",
       "      <td>movie</td>\n",
       "      <td>Jumanji</td>\n",
       "      <td>Jumanji</td>\n",
       "      <td>True</td>\n",
       "      <td>1995</td>\n",
       "      <td>1995.0</td>\n",
       "      <td>104.0</td>\n",
       "      <td>Adventure,Comedy,Family</td>\n",
       "    </tr>\n",
       "    <tr>\n",
       "      <th>4</th>\n",
       "      <td>False</td>\n",
       "      <td>65000000.0</td>\n",
       "      <td>8844</td>\n",
       "      <td>tt0113497</td>\n",
       "      <td>en</td>\n",
       "      <td>Jumanji</td>\n",
       "      <td>When siblings Judy and Peter discover an encha...</td>\n",
       "      <td>17.015539</td>\n",
       "      <td>1995-12-15</td>\n",
       "      <td>262797249.0</td>\n",
       "      <td>104.0</td>\n",
       "      <td>Released</td>\n",
       "      <td>Jumanji</td>\n",
       "      <td>6.9</td>\n",
       "      <td>2413.0</td>\n",
       "      <td>False</td>\n",
       "      <td>False</td>\n",
       "      <td>False</td>\n",
       "      <td>True</td>\n",
       "      <td>Adventure</td>\n",
       "      <td>English</td>\n",
       "      <td>Teitler Film</td>\n",
       "      <td>United States of America</td>\n",
       "      <td>tt0113497</td>\n",
       "      <td>movie</td>\n",
       "      <td>Jumanji</td>\n",
       "      <td>Jumanji</td>\n",
       "      <td>True</td>\n",
       "      <td>1995</td>\n",
       "      <td>1995.0</td>\n",
       "      <td>104.0</td>\n",
       "      <td>Adventure,Comedy,Family</td>\n",
       "    </tr>\n",
       "  </tbody>\n",
       "</table>\n",
       "</div>"
      ],
      "text/plain": [
       "   adult      budget    id    imdb_id original_language original_title  \\\n",
       "0  False  30000000.0   862  tt0114709                en      Toy Story   \n",
       "1  False  30000000.0   862  tt0114709                en      Toy Story   \n",
       "2  False  30000000.0   862  tt0114709                en      Toy Story   \n",
       "3  False  65000000.0  8844  tt0113497                en        Jumanji   \n",
       "4  False  65000000.0  8844  tt0113497                en        Jumanji   \n",
       "\n",
       "                                            overview  popularity release_date  \\\n",
       "0  Led by Woody, Andy's toys live happily in his ...   21.946943   1995-10-30   \n",
       "1  Led by Woody, Andy's toys live happily in his ...   21.946943   1995-10-30   \n",
       "2  Led by Woody, Andy's toys live happily in his ...   21.946943   1995-10-30   \n",
       "3  When siblings Judy and Peter discover an encha...   17.015539   1995-12-15   \n",
       "4  When siblings Judy and Peter discover an encha...   17.015539   1995-12-15   \n",
       "\n",
       "       revenue  runtime    status      title  vote_average  vote_count  \\\n",
       "0  373554033.0     81.0  Released  Toy Story           7.7      5415.0   \n",
       "1  373554033.0     81.0  Released  Toy Story           7.7      5415.0   \n",
       "2  373554033.0     81.0  Released  Toy Story           7.7      5415.0   \n",
       "3  262797249.0    104.0  Released    Jumanji           6.9      2413.0   \n",
       "4  262797249.0    104.0  Released    Jumanji           6.9      2413.0   \n",
       "\n",
       "   missing_budget  missing_revenue  missing_vote_count  has_financials  \\\n",
       "0           False            False               False            True   \n",
       "1           False            False               False            True   \n",
       "2           False            False               False            True   \n",
       "3           False            False               False            True   \n",
       "4           False            False               False            True   \n",
       "\n",
       "  genre_names language_names            company_names  \\\n",
       "0   Animation        English  Pixar Animation Studios   \n",
       "1      Comedy        English  Pixar Animation Studios   \n",
       "2      Family        English  Pixar Animation Studios   \n",
       "3   Adventure        English         TriStar Pictures   \n",
       "4   Adventure        English             Teitler Film   \n",
       "\n",
       "              country_names     tconst titleType primaryTitle originalTitle  \\\n",
       "0  United States of America  tt0114709     movie    Toy Story     Toy Story   \n",
       "1  United States of America  tt0114709     movie    Toy Story     Toy Story   \n",
       "2  United States of America  tt0114709     movie    Toy Story     Toy Story   \n",
       "3  United States of America  tt0113497     movie      Jumanji       Jumanji   \n",
       "4  United States of America  tt0113497     movie      Jumanji       Jumanji   \n",
       "\n",
       "   isAdult  startYear  endYear  runtimeMinutes                      genres  \n",
       "0     True       1995   1995.0            81.0  Adventure,Animation,Comedy  \n",
       "1     True       1995   1995.0            81.0  Adventure,Animation,Comedy  \n",
       "2     True       1995   1995.0            81.0  Adventure,Animation,Comedy  \n",
       "3     True       1995   1995.0           104.0     Adventure,Comedy,Family  \n",
       "4     True       1995   1995.0           104.0     Adventure,Comedy,Family  "
      ]
     },
     "execution_count": 110,
     "metadata": {},
     "output_type": "execute_result"
    }
   ],
   "source": [
    "pd.set_option('display.max_columns', None) \n",
    "df_merged.head()"
   ]
  },
  {
   "cell_type": "markdown",
   "metadata": {},
   "source": [
    "**Justification:** The merge of these two datasets complementary information about each movie, ensuring a unified and comprehensive dataset for analysis. By joining on the unique IMDb identifier (imdb_id/tconst), we link detailed financial and metadata attributes from the movie dataset with additional descriptive fields from the title basics dataset.\n",
    "\n",
    "This integration allows for richer analysis, better feature engineering, and more accurate insights since all relevant information is aligned by movie."
   ]
  },
  {
   "cell_type": "markdown",
   "metadata": {},
   "source": [
    "### **Remove unnecessary variables**"
   ]
  },
  {
   "cell_type": "code",
   "execution_count": 113,
   "metadata": {},
   "outputs": [
    {
     "name": "stdout",
     "output_type": "stream",
     "text": [
      "['adult', 'budget', 'id', 'imdb_id', 'original_language', 'original_title', 'overview', 'popularity', 'release_date', 'revenue', 'runtime', 'status', 'title', 'vote_average', 'vote_count', 'missing_budget', 'missing_revenue', 'missing_vote_count', 'has_financials', 'genre_names', 'language_names', 'company_names', 'country_names', 'tconst', 'titleType', 'primaryTitle', 'originalTitle', 'isAdult', 'startYear', 'endYear', 'runtimeMinutes', 'genres']\n"
     ]
    }
   ],
   "source": [
    "print(df_merged.columns.tolist())"
   ]
  },
  {
   "cell_type": "code",
   "execution_count": 114,
   "metadata": {},
   "outputs": [],
   "source": [
    "cols_to_drop = [\n",
    "    'id', 'tconst', 'title', 'originalTitle', 'startYear', 'endYear', 'runtime', \n",
    "    'genres', 'missing_budget', 'missing_revenue', 'missing_vote_count', 'isAdult', 'titleType'\n",
    "]\n",
    "\n",
    "df_cleaned = df_merged.drop(columns=cols_to_drop)"
   ]
  },
  {
   "cell_type": "markdown",
   "metadata": {},
   "source": [
    "**Justification:**\n",
    "To streamline the dataset for effective exploratory data analysis and visualization, we removed duplicate, redundant, and less informative columns. Specifically, we dropped duplicate identifiers (id, tconst) and duplicate title columns (title, originalTitle) to keep consistent naming. We retained the more detailed release_date over startYear and excluded endYear as it is irrelevant for movies. The runtime is kept only in runtimeMinutes for consistency. Original JSON columns like genres were replaced with cleaned exploded columns (genre_names). Flags for missing data and columns like isAdult and titleType were dropped to reduce clutter and because they do not add additional value for this analysis. This pruning helps focus on relevant variables while maintaining data integrity for subsequent analysis."
   ]
  },
  {
   "cell_type": "code",
   "execution_count": 117,
   "metadata": {},
   "outputs": [
    {
     "name": "stdout",
     "output_type": "stream",
     "text": [
      "<class 'pandas.core.frame.DataFrame'>\n",
      "RangeIndex: 416262 entries, 0 to 416261\n",
      "Data columns (total 19 columns):\n",
      " #   Column             Non-Null Count   Dtype         \n",
      "---  ------             --------------   -----         \n",
      " 0   adult              416262 non-null  bool          \n",
      " 1   budget             372950 non-null  float64       \n",
      " 2   imdb_id            416262 non-null  object        \n",
      " 3   original_language  416170 non-null  object        \n",
      " 4   original_title     416262 non-null  object        \n",
      " 5   overview           414390 non-null  object        \n",
      " 6   popularity         416262 non-null  float64       \n",
      " 7   release_date       416262 non-null  datetime64[ns]\n",
      " 8   revenue            143529 non-null  float64       \n",
      " 9   status             416262 non-null  object        \n",
      " 10  vote_average       416262 non-null  float64       \n",
      " 11  vote_count         408255 non-null  float64       \n",
      " 12  has_financials     416262 non-null  bool          \n",
      " 13  genre_names        413311 non-null  object        \n",
      " 14  language_names     409955 non-null  object        \n",
      " 15  company_names      390084 non-null  object        \n",
      " 16  country_names      405360 non-null  object        \n",
      " 17  primaryTitle       416262 non-null  object        \n",
      " 18  runtimeMinutes     416262 non-null  float64       \n",
      "dtypes: bool(2), datetime64[ns](1), float64(6), object(10)\n",
      "memory usage: 54.8+ MB\n"
     ]
    },
    {
     "data": {
      "text/html": [
       "<div>\n",
       "<style scoped>\n",
       "    .dataframe tbody tr th:only-of-type {\n",
       "        vertical-align: middle;\n",
       "    }\n",
       "\n",
       "    .dataframe tbody tr th {\n",
       "        vertical-align: top;\n",
       "    }\n",
       "\n",
       "    .dataframe thead th {\n",
       "        text-align: right;\n",
       "    }\n",
       "</style>\n",
       "<table border=\"1\" class=\"dataframe\">\n",
       "  <thead>\n",
       "    <tr style=\"text-align: right;\">\n",
       "      <th></th>\n",
       "      <th>adult</th>\n",
       "      <th>budget</th>\n",
       "      <th>imdb_id</th>\n",
       "      <th>original_language</th>\n",
       "      <th>original_title</th>\n",
       "      <th>overview</th>\n",
       "      <th>popularity</th>\n",
       "      <th>release_date</th>\n",
       "      <th>revenue</th>\n",
       "      <th>status</th>\n",
       "      <th>vote_average</th>\n",
       "      <th>vote_count</th>\n",
       "      <th>has_financials</th>\n",
       "      <th>genre_names</th>\n",
       "      <th>language_names</th>\n",
       "      <th>company_names</th>\n",
       "      <th>country_names</th>\n",
       "      <th>primaryTitle</th>\n",
       "      <th>runtimeMinutes</th>\n",
       "    </tr>\n",
       "  </thead>\n",
       "  <tbody>\n",
       "    <tr>\n",
       "      <th>0</th>\n",
       "      <td>False</td>\n",
       "      <td>30000000.0</td>\n",
       "      <td>tt0114709</td>\n",
       "      <td>en</td>\n",
       "      <td>Toy Story</td>\n",
       "      <td>Led by Woody, Andy's toys live happily in his ...</td>\n",
       "      <td>21.946943</td>\n",
       "      <td>1995-10-30</td>\n",
       "      <td>373554033.0</td>\n",
       "      <td>Released</td>\n",
       "      <td>7.7</td>\n",
       "      <td>5415.0</td>\n",
       "      <td>True</td>\n",
       "      <td>Animation</td>\n",
       "      <td>English</td>\n",
       "      <td>Pixar Animation Studios</td>\n",
       "      <td>United States of America</td>\n",
       "      <td>Toy Story</td>\n",
       "      <td>81.0</td>\n",
       "    </tr>\n",
       "    <tr>\n",
       "      <th>1</th>\n",
       "      <td>False</td>\n",
       "      <td>30000000.0</td>\n",
       "      <td>tt0114709</td>\n",
       "      <td>en</td>\n",
       "      <td>Toy Story</td>\n",
       "      <td>Led by Woody, Andy's toys live happily in his ...</td>\n",
       "      <td>21.946943</td>\n",
       "      <td>1995-10-30</td>\n",
       "      <td>373554033.0</td>\n",
       "      <td>Released</td>\n",
       "      <td>7.7</td>\n",
       "      <td>5415.0</td>\n",
       "      <td>True</td>\n",
       "      <td>Comedy</td>\n",
       "      <td>English</td>\n",
       "      <td>Pixar Animation Studios</td>\n",
       "      <td>United States of America</td>\n",
       "      <td>Toy Story</td>\n",
       "      <td>81.0</td>\n",
       "    </tr>\n",
       "    <tr>\n",
       "      <th>2</th>\n",
       "      <td>False</td>\n",
       "      <td>30000000.0</td>\n",
       "      <td>tt0114709</td>\n",
       "      <td>en</td>\n",
       "      <td>Toy Story</td>\n",
       "      <td>Led by Woody, Andy's toys live happily in his ...</td>\n",
       "      <td>21.946943</td>\n",
       "      <td>1995-10-30</td>\n",
       "      <td>373554033.0</td>\n",
       "      <td>Released</td>\n",
       "      <td>7.7</td>\n",
       "      <td>5415.0</td>\n",
       "      <td>True</td>\n",
       "      <td>Family</td>\n",
       "      <td>English</td>\n",
       "      <td>Pixar Animation Studios</td>\n",
       "      <td>United States of America</td>\n",
       "      <td>Toy Story</td>\n",
       "      <td>81.0</td>\n",
       "    </tr>\n",
       "    <tr>\n",
       "      <th>3</th>\n",
       "      <td>False</td>\n",
       "      <td>65000000.0</td>\n",
       "      <td>tt0113497</td>\n",
       "      <td>en</td>\n",
       "      <td>Jumanji</td>\n",
       "      <td>When siblings Judy and Peter discover an encha...</td>\n",
       "      <td>17.015539</td>\n",
       "      <td>1995-12-15</td>\n",
       "      <td>262797249.0</td>\n",
       "      <td>Released</td>\n",
       "      <td>6.9</td>\n",
       "      <td>2413.0</td>\n",
       "      <td>True</td>\n",
       "      <td>Adventure</td>\n",
       "      <td>English</td>\n",
       "      <td>TriStar Pictures</td>\n",
       "      <td>United States of America</td>\n",
       "      <td>Jumanji</td>\n",
       "      <td>104.0</td>\n",
       "    </tr>\n",
       "    <tr>\n",
       "      <th>4</th>\n",
       "      <td>False</td>\n",
       "      <td>65000000.0</td>\n",
       "      <td>tt0113497</td>\n",
       "      <td>en</td>\n",
       "      <td>Jumanji</td>\n",
       "      <td>When siblings Judy and Peter discover an encha...</td>\n",
       "      <td>17.015539</td>\n",
       "      <td>1995-12-15</td>\n",
       "      <td>262797249.0</td>\n",
       "      <td>Released</td>\n",
       "      <td>6.9</td>\n",
       "      <td>2413.0</td>\n",
       "      <td>True</td>\n",
       "      <td>Adventure</td>\n",
       "      <td>English</td>\n",
       "      <td>Teitler Film</td>\n",
       "      <td>United States of America</td>\n",
       "      <td>Jumanji</td>\n",
       "      <td>104.0</td>\n",
       "    </tr>\n",
       "  </tbody>\n",
       "</table>\n",
       "</div>"
      ],
      "text/plain": [
       "   adult      budget    imdb_id original_language original_title  \\\n",
       "0  False  30000000.0  tt0114709                en      Toy Story   \n",
       "1  False  30000000.0  tt0114709                en      Toy Story   \n",
       "2  False  30000000.0  tt0114709                en      Toy Story   \n",
       "3  False  65000000.0  tt0113497                en        Jumanji   \n",
       "4  False  65000000.0  tt0113497                en        Jumanji   \n",
       "\n",
       "                                            overview  popularity release_date  \\\n",
       "0  Led by Woody, Andy's toys live happily in his ...   21.946943   1995-10-30   \n",
       "1  Led by Woody, Andy's toys live happily in his ...   21.946943   1995-10-30   \n",
       "2  Led by Woody, Andy's toys live happily in his ...   21.946943   1995-10-30   \n",
       "3  When siblings Judy and Peter discover an encha...   17.015539   1995-12-15   \n",
       "4  When siblings Judy and Peter discover an encha...   17.015539   1995-12-15   \n",
       "\n",
       "       revenue    status  vote_average  vote_count  has_financials  \\\n",
       "0  373554033.0  Released           7.7      5415.0            True   \n",
       "1  373554033.0  Released           7.7      5415.0            True   \n",
       "2  373554033.0  Released           7.7      5415.0            True   \n",
       "3  262797249.0  Released           6.9      2413.0            True   \n",
       "4  262797249.0  Released           6.9      2413.0            True   \n",
       "\n",
       "  genre_names language_names            company_names  \\\n",
       "0   Animation        English  Pixar Animation Studios   \n",
       "1      Comedy        English  Pixar Animation Studios   \n",
       "2      Family        English  Pixar Animation Studios   \n",
       "3   Adventure        English         TriStar Pictures   \n",
       "4   Adventure        English             Teitler Film   \n",
       "\n",
       "              country_names primaryTitle  runtimeMinutes  \n",
       "0  United States of America    Toy Story            81.0  \n",
       "1  United States of America    Toy Story            81.0  \n",
       "2  United States of America    Toy Story            81.0  \n",
       "3  United States of America      Jumanji           104.0  \n",
       "4  United States of America      Jumanji           104.0  "
      ]
     },
     "execution_count": 117,
     "metadata": {},
     "output_type": "execute_result"
    }
   ],
   "source": [
    "df_cleaned.info()\n",
    "df_cleaned.head()"
   ]
  },
  {
   "cell_type": "markdown",
   "metadata": {
    "id": "F42urHuzttjF"
   },
   "source": [
    "## 4. Update your data store\n",
    "Update your local database/data store with the cleaned data, following best practices for storing your cleaned data:\n",
    "\n",
    "- Must maintain different instances / versions of data (raw and cleaned data)\n",
    "- Must name the dataset files informatively\n",
    "- Ensure both the raw and cleaned data is saved to your database/data store"
   ]
  },
  {
   "cell_type": "code",
   "execution_count": 118,
   "metadata": {
    "id": "V3uay7EJUV_L"
   },
   "outputs": [],
   "source": [
    "# Save the raw datasets \n",
    "df.to_csv(\"raw_movies_metadata.csv\", index=False)\n",
    "df_title_basics.to_csv(\"raw_imdb_basics.csv\", index=False)\n",
    "\n",
    "# After cleaning and merging, save the cleaned dataset\n",
    "df_cleaned.to_csv(\"cleaned_movies_metadata.csv\", index=False)"
   ]
  },
  {
   "cell_type": "markdown",
   "metadata": {},
   "source": [
    "**Justification:**\n",
    "Saving both raw and cleaned versions of the data ensures you always have the original data untouched, enabling traceability and reproducibility. Informative filenames help you easily identify which file contains raw data and which one is cleaned.\n",
    "\n"
   ]
  },
  {
   "cell_type": "markdown",
   "metadata": {
    "id": "cGy_yddGtzhM"
   },
   "source": [
    "## 5. Answer the research question\n",
    "\n",
    "### **5.1:** Research Question "
   ]
  },
  {
   "cell_type": "markdown",
   "metadata": {
    "id": "gjedE4s4ZkEd"
   },
   "source": [
    "#### **How do movie genres influence average viewer ratings and revenue?**"
   ]
  },
  {
   "cell_type": "markdown",
   "metadata": {},
   "source": [
    "##### Visual 1 — Average Movie Rating by Genre"
   ]
  },
  {
   "cell_type": "code",
   "execution_count": 119,
   "metadata": {
    "id": "Lkw3rW9kZmOm"
   },
   "outputs": [
    {
     "data": {
      "image/png": "[encoded data removed]",
      "text/plain": [
       "<Figure size 1200x600 with 1 Axes>"
      ]
     },
     "metadata": {},
     "output_type": "display_data"
    }
   ],
   "source": [
    "import matplotlib.pyplot as plt\n",
    "import seaborn as sns\n",
    "\n",
    "# calculate average rating by genre\n",
    "avg_rating_by_genre = df_cleaned.groupby('genre_names')['vote_average'].mean().sort_values(ascending=False)\n",
    "\n",
    "plt.figure(figsize=(12,6))\n",
    "sns.barplot(x=avg_rating_by_genre.index, y=avg_rating_by_genre.values, palette='viridis')\n",
    "plt.xticks(rotation=45, ha='right')\n",
    "plt.title('Average Movie Rating by Genre')\n",
    "plt.ylabel('Average Rating')\n",
    "plt.xlabel('Genre')\n",
    "plt.tight_layout()\n",
    "plt.show()"
   ]
  },
  {
   "cell_type": "markdown",
   "metadata": {},
   "source": [
    "Genres like History, War, Animation, Music, and Crime have the highest average ratings, typically above 6.3. These genres tend to offer rich narratives, emotional depth, or artistic value, which resonate positively with audiences.\n",
    "\n",
    "In contrast, genres like TV Movie, Comedy, and Horror have lower average ratings, suggesting they may appeal to more niche or entertainment-focused audiences with potentially lower critical acclaim.\n",
    "\n",
    "---"
   ]
  },
  {
   "cell_type": "markdown",
   "metadata": {},
   "source": [
    "#####  Visual 2 — Total Revenue by Genre"
   ]
  },
  {
   "cell_type": "code",
   "execution_count": 121,
   "metadata": {
    "id": "6fdK_8ZGZm9R"
   },
   "outputs": [
    {
     "data": {
      "image/png": "[encoded data removed]",
      "text/plain": [
       "<Figure size 1200x600 with 1 Axes>"
      ]
     },
     "metadata": {},
     "output_type": "display_data"
    }
   ],
   "source": [
    "# sum of revenue by genre\n",
    "revenue_by_genre = df_cleaned.dropna(subset=['revenue']).groupby('genre_names')['revenue'].sum().sort_values(ascending=False)\n",
    "\n",
    "plt.figure(figsize=(12,6))\n",
    "sns.barplot(x=revenue_by_genre.index, y=revenue_by_genre.values, palette='magma')\n",
    "plt.xticks(rotation=45, ha='right')\n",
    "plt.title('Total Revenue by Movie Genre')\n",
    "plt.ylabel('Total Revenue (USD)')\n",
    "plt.xlabel('Genre')\n",
    "plt.tight_layout()\n",
    "plt.show()"
   ]
  },
  {
   "cell_type": "markdown",
   "metadata": {
    "id": "K5RgvMGUZoHn"
   },
   "source": [
    "Genres such as Action, Adventure, Thriller, and Drama dominate in terms of total revenue. These genres are typically associated with large scale productions, global appeal, and broad audience targeting, which translates into greater financial success.\n",
    "\n",
    "Surprisingly, some of the highest rated genres like History and War generate relatively low total revenue, possibly due to limited theatrical runs or lower mass market demand. Genres with moderate ratings like Action or Comedy still lead the box office, showing that financial performance does not always correlate with viewer satisfaction."
   ]
  },
  {
   "cell_type": "markdown",
   "metadata": {
    "id": "0ezWXXZVj-TP"
   },
   "source": [
    "### **5.2:** Reflection\n",
    "In 2-4 sentences, if you had more time to complete the project, what actions would you take? For example, which data quality and structural issues would you look into further, and what research questions would you further explore?"
   ]
  },
  {
   "cell_type": "markdown",
   "metadata": {
    "id": "XB3RBDG5kFe1"
   },
   "source": [
    "If I had more time, I would collect more complete data and clean it more thoroughly, especially around missing values like `endYea`r and `runtimeMinutes`. I’d also explore how production budgets, release years, and country-specific trends influence movie success. It would be interesting to dive deeper into multi-genre films and see how viewer ratings relate to awards. These steps could lead to richer, more accurate insights."
   ]
  }
 ],
 "metadata": {
  "colab": {
   "provenance": []
  },
  "kernelspec": {
   "display_name": "Python 3 (ipykernel)",
   "language": "python",
   "name": "python3"
  },
  "language_info": {
   "codemirror_mode": {
    "name": "ipython",
    "version": 3
   },
   "file_extension": ".py",
   "mimetype": "text/x-python",
   "name": "python",
   "nbconvert_exporter": "python",
   "pygments_lexer": "ipython3",
   "version": "3.10.11"
  }
 },
 "nbformat": 4,
 "nbformat_minor": 1
}
